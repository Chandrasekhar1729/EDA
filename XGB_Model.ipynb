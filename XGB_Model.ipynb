{
 "cells": [
  {
   "cell_type": "code",
   "execution_count": 1,
   "metadata": {
    "colab": {
     "base_uri": "https://localhost:8080/",
     "height": 70
    },
    "colab_type": "code",
    "executionInfo": {
     "elapsed": 1159,
     "status": "ok",
     "timestamp": 1595838520066,
     "user": {
      "displayName": "Tejaswi Kanala",
      "photoUrl": "",
      "userId": "13244086744864706173"
     },
     "user_tz": -330
    },
    "id": "S6TsYfpWofZM",
    "outputId": "5899dcf1-c857-48d7-8a64-f2c9514d4bf9"
   },
   "outputs": [],
   "source": [
    "import pandas as pd\n",
    "import numpy as np\n",
    "import seaborn as sns\n",
    "import matplotlib.pyplot as plt\n",
    "%matplotlib inline"
   ]
  },
  {
   "cell_type": "code",
   "execution_count": 2,
   "metadata": {
    "colab": {
     "base_uri": "https://localhost:8080/",
     "height": 244
    },
    "colab_type": "code",
    "executionInfo": {
     "elapsed": 882,
     "status": "ok",
     "timestamp": 1595838522004,
     "user": {
      "displayName": "Tejaswi Kanala",
      "photoUrl": "",
      "userId": "13244086744864706173"
     },
     "user_tz": -330
    },
    "id": "mWjycjQTosgD",
    "outputId": "cb9f33bc-60a2-4624-ca0f-5bd0b6f05d35"
   },
   "outputs": [
    {
     "data": {
      "text/html": [
       "<div>\n",
       "<style scoped>\n",
       "    .dataframe tbody tr th:only-of-type {\n",
       "        vertical-align: middle;\n",
       "    }\n",
       "\n",
       "    .dataframe tbody tr th {\n",
       "        vertical-align: top;\n",
       "    }\n",
       "\n",
       "    .dataframe thead th {\n",
       "        text-align: right;\n",
       "    }\n",
       "</style>\n",
       "<table border=\"1\" class=\"dataframe\">\n",
       "  <thead>\n",
       "    <tr style=\"text-align: right;\">\n",
       "      <th></th>\n",
       "      <th>Id</th>\n",
       "      <th>SalePrice</th>\n",
       "      <th>MSSubClass</th>\n",
       "      <th>MSZoning</th>\n",
       "      <th>LotFrontage</th>\n",
       "      <th>LotArea</th>\n",
       "      <th>Street</th>\n",
       "      <th>Alley</th>\n",
       "      <th>LotShape</th>\n",
       "      <th>LandContour</th>\n",
       "      <th>...</th>\n",
       "      <th>Fence</th>\n",
       "      <th>MiscFeature</th>\n",
       "      <th>MiscVal</th>\n",
       "      <th>MoSold</th>\n",
       "      <th>YrSold</th>\n",
       "      <th>SaleType</th>\n",
       "      <th>SaleCondition</th>\n",
       "      <th>LotFrontageNaN</th>\n",
       "      <th>MasVnrAreaNaN</th>\n",
       "      <th>GarageYrBltNaN</th>\n",
       "    </tr>\n",
       "  </thead>\n",
       "  <tbody>\n",
       "    <tr>\n",
       "      <th>0</th>\n",
       "      <td>1</td>\n",
       "      <td>12.247694</td>\n",
       "      <td>0.235294</td>\n",
       "      <td>0.75</td>\n",
       "      <td>0.418208</td>\n",
       "      <td>0.366344</td>\n",
       "      <td>1.0</td>\n",
       "      <td>1.0</td>\n",
       "      <td>0.000000</td>\n",
       "      <td>0.333333</td>\n",
       "      <td>...</td>\n",
       "      <td>1.0</td>\n",
       "      <td>1.0</td>\n",
       "      <td>0.0</td>\n",
       "      <td>0.090909</td>\n",
       "      <td>0.50</td>\n",
       "      <td>0.666667</td>\n",
       "      <td>0.75</td>\n",
       "      <td>0.0</td>\n",
       "      <td>0.0</td>\n",
       "      <td>0.0</td>\n",
       "    </tr>\n",
       "    <tr>\n",
       "      <th>1</th>\n",
       "      <td>2</td>\n",
       "      <td>12.109011</td>\n",
       "      <td>0.000000</td>\n",
       "      <td>0.75</td>\n",
       "      <td>0.495064</td>\n",
       "      <td>0.391317</td>\n",
       "      <td>1.0</td>\n",
       "      <td>1.0</td>\n",
       "      <td>0.000000</td>\n",
       "      <td>0.333333</td>\n",
       "      <td>...</td>\n",
       "      <td>1.0</td>\n",
       "      <td>1.0</td>\n",
       "      <td>0.0</td>\n",
       "      <td>0.363636</td>\n",
       "      <td>0.25</td>\n",
       "      <td>0.666667</td>\n",
       "      <td>0.75</td>\n",
       "      <td>0.0</td>\n",
       "      <td>0.0</td>\n",
       "      <td>0.0</td>\n",
       "    </tr>\n",
       "    <tr>\n",
       "      <th>2</th>\n",
       "      <td>3</td>\n",
       "      <td>12.317167</td>\n",
       "      <td>0.235294</td>\n",
       "      <td>0.75</td>\n",
       "      <td>0.434909</td>\n",
       "      <td>0.422359</td>\n",
       "      <td>1.0</td>\n",
       "      <td>1.0</td>\n",
       "      <td>0.333333</td>\n",
       "      <td>0.333333</td>\n",
       "      <td>...</td>\n",
       "      <td>1.0</td>\n",
       "      <td>1.0</td>\n",
       "      <td>0.0</td>\n",
       "      <td>0.727273</td>\n",
       "      <td>0.50</td>\n",
       "      <td>0.666667</td>\n",
       "      <td>0.75</td>\n",
       "      <td>0.0</td>\n",
       "      <td>0.0</td>\n",
       "      <td>0.0</td>\n",
       "    </tr>\n",
       "    <tr>\n",
       "      <th>3</th>\n",
       "      <td>4</td>\n",
       "      <td>11.849398</td>\n",
       "      <td>0.294118</td>\n",
       "      <td>0.75</td>\n",
       "      <td>0.388581</td>\n",
       "      <td>0.390295</td>\n",
       "      <td>1.0</td>\n",
       "      <td>1.0</td>\n",
       "      <td>0.333333</td>\n",
       "      <td>0.333333</td>\n",
       "      <td>...</td>\n",
       "      <td>1.0</td>\n",
       "      <td>1.0</td>\n",
       "      <td>0.0</td>\n",
       "      <td>0.090909</td>\n",
       "      <td>0.00</td>\n",
       "      <td>0.666667</td>\n",
       "      <td>0.00</td>\n",
       "      <td>0.0</td>\n",
       "      <td>0.0</td>\n",
       "      <td>0.0</td>\n",
       "    </tr>\n",
       "    <tr>\n",
       "      <th>4</th>\n",
       "      <td>5</td>\n",
       "      <td>12.429216</td>\n",
       "      <td>0.235294</td>\n",
       "      <td>0.75</td>\n",
       "      <td>0.513123</td>\n",
       "      <td>0.468761</td>\n",
       "      <td>1.0</td>\n",
       "      <td>1.0</td>\n",
       "      <td>0.333333</td>\n",
       "      <td>0.333333</td>\n",
       "      <td>...</td>\n",
       "      <td>1.0</td>\n",
       "      <td>1.0</td>\n",
       "      <td>0.0</td>\n",
       "      <td>1.000000</td>\n",
       "      <td>0.50</td>\n",
       "      <td>0.666667</td>\n",
       "      <td>0.75</td>\n",
       "      <td>0.0</td>\n",
       "      <td>0.0</td>\n",
       "      <td>0.0</td>\n",
       "    </tr>\n",
       "  </tbody>\n",
       "</table>\n",
       "<p>5 rows × 84 columns</p>\n",
       "</div>"
      ],
      "text/plain": [
       "   Id  SalePrice  MSSubClass  MSZoning  LotFrontage   LotArea  Street  Alley  \\\n",
       "0   1  12.247694    0.235294      0.75     0.418208  0.366344     1.0    1.0   \n",
       "1   2  12.109011    0.000000      0.75     0.495064  0.391317     1.0    1.0   \n",
       "2   3  12.317167    0.235294      0.75     0.434909  0.422359     1.0    1.0   \n",
       "3   4  11.849398    0.294118      0.75     0.388581  0.390295     1.0    1.0   \n",
       "4   5  12.429216    0.235294      0.75     0.513123  0.468761     1.0    1.0   \n",
       "\n",
       "   LotShape  LandContour  ...  Fence  MiscFeature  MiscVal    MoSold  YrSold  \\\n",
       "0  0.000000     0.333333  ...    1.0          1.0      0.0  0.090909    0.50   \n",
       "1  0.000000     0.333333  ...    1.0          1.0      0.0  0.363636    0.25   \n",
       "2  0.333333     0.333333  ...    1.0          1.0      0.0  0.727273    0.50   \n",
       "3  0.333333     0.333333  ...    1.0          1.0      0.0  0.090909    0.00   \n",
       "4  0.333333     0.333333  ...    1.0          1.0      0.0  1.000000    0.50   \n",
       "\n",
       "   SaleType  SaleCondition  LotFrontageNaN  MasVnrAreaNaN  GarageYrBltNaN  \n",
       "0  0.666667           0.75             0.0            0.0             0.0  \n",
       "1  0.666667           0.75             0.0            0.0             0.0  \n",
       "2  0.666667           0.75             0.0            0.0             0.0  \n",
       "3  0.666667           0.00             0.0            0.0             0.0  \n",
       "4  0.666667           0.75             0.0            0.0             0.0  \n",
       "\n",
       "[5 rows x 84 columns]"
      ]
     },
     "execution_count": 2,
     "metadata": {},
     "output_type": "execute_result"
    }
   ],
   "source": [
    "df = pd.read_csv(r'train_processed.csv')\n",
    "df.head(5)"
   ]
  },
  {
   "cell_type": "code",
   "execution_count": 3,
   "metadata": {
    "colab": {},
    "colab_type": "code",
    "id": "p9Ks2G3Sq4Bb"
   },
   "outputs": [],
   "source": [
    "y = df['SalePrice']\n",
    "x = df.drop(['Id','SalePrice'],axis=1)"
   ]
  },
  {
   "cell_type": "code",
   "execution_count": 4,
   "metadata": {
    "colab": {},
    "colab_type": "code",
    "executionInfo": {
     "elapsed": 927,
     "status": "ok",
     "timestamp": 1595838524753,
     "user": {
      "displayName": "Tejaswi Kanala",
      "photoUrl": "",
      "userId": "13244086744864706173"
     },
     "user_tz": -330
    },
    "id": "sz54LWjOrP_a"
   },
   "outputs": [],
   "source": [
    "import xgboost as xgb\n",
    "from sklearn.model_selection import train_test_split"
   ]
  },
  {
   "cell_type": "code",
   "execution_count": 5,
   "metadata": {
    "colab": {},
    "colab_type": "code",
    "id": "9nC4m59rrmJY"
   },
   "outputs": [],
   "source": [
    "x_train,x_test,y_train,y_test = train_test_split(x,y,test_size=0.2,random_state=42)"
   ]
  },
  {
   "cell_type": "code",
   "execution_count": 6,
   "metadata": {
    "colab": {},
    "colab_type": "code",
    "id": "QiYSUr39rwha"
   },
   "outputs": [],
   "source": [
    "x1 = xgb.XGBRegressor()"
   ]
  },
  {
   "cell_type": "code",
   "execution_count": 7,
   "metadata": {
    "colab": {
     "base_uri": "https://localhost:8080/",
     "height": 151
    },
    "colab_type": "code",
    "executionInfo": {
     "elapsed": 1192,
     "status": "ok",
     "timestamp": 1595738716158,
     "user": {
      "displayName": "Tejaswi Kanala",
      "photoUrl": "",
      "userId": "13244086744864706173"
     },
     "user_tz": -330
    },
    "id": "g5iQxKLWr1_a",
    "outputId": "a55ca9be-fef9-4af6-f407-e670a58be96a"
   },
   "outputs": [
    {
     "data": {
      "text/plain": [
       "XGBRegressor(base_score=0.5, booster='gbtree', colsample_bylevel=1,\n",
       "             colsample_bynode=1, colsample_bytree=1, gamma=0, gpu_id=-1,\n",
       "             importance_type='gain', interaction_constraints='',\n",
       "             learning_rate=0.300000012, max_delta_step=0, max_depth=6,\n",
       "             min_child_weight=1, missing=nan, monotone_constraints='()',\n",
       "             n_estimators=100, n_jobs=0, num_parallel_tree=1, random_state=0,\n",
       "             reg_alpha=0, reg_lambda=1, scale_pos_weight=1, subsample=1,\n",
       "             tree_method='exact', validate_parameters=1, verbosity=None)"
      ]
     },
     "execution_count": 7,
     "metadata": {},
     "output_type": "execute_result"
    }
   ],
   "source": [
    "x1.fit(x_train,y_train)"
   ]
  },
  {
   "cell_type": "code",
   "execution_count": 8,
   "metadata": {
    "colab": {},
    "colab_type": "code",
    "id": "OKpe6ZGvr74d"
   },
   "outputs": [],
   "source": [
    "y_pred = x1.predict(x_test)"
   ]
  },
  {
   "cell_type": "markdown",
   "metadata": {},
   "source": [
    "Test RMSE"
   ]
  },
  {
   "cell_type": "code",
   "execution_count": 9,
   "metadata": {
    "colab": {
     "base_uri": "https://localhost:8080/",
     "height": 34
    },
    "colab_type": "code",
    "executionInfo": {
     "elapsed": 922,
     "status": "ok",
     "timestamp": 1595738720622,
     "user": {
      "displayName": "Tejaswi Kanala",
      "photoUrl": "",
      "userId": "13244086744864706173"
     },
     "user_tz": -330
    },
    "id": "kmqoeFyKsEZF",
    "outputId": "4b3d8443-ee09-42a7-a7da-77ddf2164904"
   },
   "outputs": [
    {
     "data": {
      "text/plain": [
       "0.14552675121147188"
      ]
     },
     "execution_count": 9,
     "metadata": {},
     "output_type": "execute_result"
    }
   ],
   "source": [
    "from sklearn.metrics import mean_squared_error\n",
    "np.sqrt(mean_squared_error(y_test,y_pred))"
   ]
  },
  {
   "cell_type": "code",
   "execution_count": 10,
   "metadata": {
    "colab": {
     "base_uri": "https://localhost:8080/",
     "height": 34
    },
    "colab_type": "code",
    "executionInfo": {
     "elapsed": 895,
     "status": "ok",
     "timestamp": 1595738723942,
     "user": {
      "displayName": "Tejaswi Kanala",
      "photoUrl": "",
      "userId": "13244086744864706173"
     },
     "user_tz": -330
    },
    "id": "fh5T2C53tKrR",
    "outputId": "c72178d0-9a9c-4282-d0b0-6c1314411936"
   },
   "outputs": [
    {
     "name": "stdout",
     "output_type": "stream",
     "text": [
      "0.886513927195601\n"
     ]
    }
   ],
   "source": [
    "from sklearn.metrics import r2_score\n",
    "print(r2_score(y_test, y_pred))"
   ]
  },
  {
   "cell_type": "code",
   "execution_count": 11,
   "metadata": {
    "colab": {},
    "colab_type": "code",
    "id": "KDzLoTUjcMgv"
   },
   "outputs": [],
   "source": [
    "y_pred_train = x1.predict(x_train)"
   ]
  },
  {
   "cell_type": "markdown",
   "metadata": {},
   "source": [
    "Train RMSE"
   ]
  },
  {
   "cell_type": "code",
   "execution_count": 12,
   "metadata": {
    "colab": {
     "base_uri": "https://localhost:8080/",
     "height": 34
    },
    "colab_type": "code",
    "executionInfo": {
     "elapsed": 893,
     "status": "ok",
     "timestamp": 1595738821344,
     "user": {
      "displayName": "Tejaswi Kanala",
      "photoUrl": "",
      "userId": "13244086744864706173"
     },
     "user_tz": -330
    },
    "id": "Cs6acXVHcbkF",
    "outputId": "3401f395-515a-4e11-e121-c419656deab5"
   },
   "outputs": [
    {
     "data": {
      "text/plain": [
       "0.007157521485119162"
      ]
     },
     "execution_count": 12,
     "metadata": {},
     "output_type": "execute_result"
    }
   ],
   "source": [
    "np.sqrt(mean_squared_error(y_train,y_pred_train))"
   ]
  },
  {
   "cell_type": "code",
   "execution_count": 13,
   "metadata": {
    "colab": {
     "base_uri": "https://localhost:8080/",
     "height": 434
    },
    "colab_type": "code",
    "executionInfo": {
     "elapsed": 2720,
     "status": "ok",
     "timestamp": 1595699812241,
     "user": {
      "displayName": "Tejaswi Kanala",
      "photoUrl": "",
      "userId": "13244086744864706173"
     },
     "user_tz": -330
    },
    "id": "vMiSCKzOtPVL",
    "outputId": "9bb65faf-5425-4176-e749-028e45e8396b"
   },
   "outputs": [
    {
     "name": "stderr",
     "output_type": "stream",
     "text": [
      "C:\\Users\\TEKANA\\Anaconda3\\envs\\TAP_project\\lib\\site-packages\\sklearn\\utils\\deprecation.py:143: FutureWarning: The sklearn.metrics.classification module is  deprecated in version 0.22 and will be removed in version 0.24. The corresponding classes / functions should instead be imported from sklearn.metrics. Anything that cannot be imported from sklearn.metrics is now part of the private API.\n",
      "  warnings.warn(message, FutureWarning)\n"
     ]
    },
    {
     "data": {
      "text/plain": [
       "0.886513927195601"
      ]
     },
     "execution_count": 13,
     "metadata": {},
     "output_type": "execute_result"
    },
    {
     "data": {
      "image/png": "[encoded data removed]",
      "text/plain": [
       "<Figure size 576x396 with 2 Axes>"
      ]
     },
     "metadata": {},
     "output_type": "display_data"
    }
   ],
   "source": [
    "from yellowbrick.regressor import ResidualsPlot\n",
    "visualizer = ResidualsPlot(x1)\n",
    "visualizer.fit(x_train, y_train)\n",
    "visualizer.score(x_test, y_test)\n"
   ]
  },
  {
   "cell_type": "markdown",
   "metadata": {
    "colab_type": "text",
    "id": "9x3GXOUtIEnr"
   },
   "source": [
    "XGboost with hyperparameter tuning"
   ]
  },
  {
   "cell_type": "code",
   "execution_count": 14,
   "metadata": {
    "colab": {},
    "colab_type": "code",
    "id": "AYL1F24a_B4p"
   },
   "outputs": [],
   "source": [
    "#XGboost with hyperparameter tuning\n",
    "y = df['SalePrice']\n",
    "x = df.drop(['Id','SalePrice'],axis=1)"
   ]
  },
  {
   "cell_type": "code",
   "execution_count": 15,
   "metadata": {
    "colab": {},
    "colab_type": "code",
    "id": "JpJKu0uIBDOy"
   },
   "outputs": [],
   "source": [
    "regressor = xgb.XGBRegressor()"
   ]
  },
  {
   "cell_type": "code",
   "execution_count": 16,
   "metadata": {
    "colab": {},
    "colab_type": "code",
    "id": "qWNrT-kY__g5"
   },
   "outputs": [],
   "source": [
    "x_train,x_test,y_train,y_test = train_test_split(x,y,test_size=0.2,random_state=42)"
   ]
  },
  {
   "cell_type": "code",
   "execution_count": 17,
   "metadata": {
    "colab": {},
    "colab_type": "code",
    "id": "LVaOJfh_AFCQ"
   },
   "outputs": [],
   "source": [
    "params = {'n_estimators':[100,500,900,1100,1500],\n",
    "          'max_depth':[2,3,5,10,15],\n",
    "          'booster':['gbtree','gblinear'],\n",
    "          'learning_rate':[0.05,0.1,0.15,0.20],\n",
    "          'min_child_weight':[1,2,3,4],\n",
    "          'gamma':[0.1,0.2,0.3,0.4,0.5]\n",
    "          \n",
    "          }"
   ]
  },
  {
   "cell_type": "code",
   "execution_count": 18,
   "metadata": {
    "colab": {},
    "colab_type": "code",
    "id": "sYay9l0SApDR"
   },
   "outputs": [],
   "source": [
    "from sklearn.model_selection import RandomizedSearchCV\n",
    "random_cv = RandomizedSearchCV(estimator=regressor,param_distributions=params,\n",
    "                               cv=10,n_iter=50,\n",
    "                               scoring='neg_mean_absolute_error',n_jobs=4,\n",
    "                               verbose=5,\n",
    "                               return_train_score=True,\n",
    "                               random_state=42)"
   ]
  },
  {
   "cell_type": "code",
   "execution_count": 19,
   "metadata": {
    "colab": {
     "base_uri": "https://localhost:8080/",
     "height": 554
    },
    "colab_type": "code",
    "executionInfo": {
     "elapsed": 458831,
     "status": "ok",
     "timestamp": 1595740977016,
     "user": {
      "displayName": "Tejaswi Kanala",
      "photoUrl": "",
      "userId": "13244086744864706173"
     },
     "user_tz": -330
    },
    "id": "E81RD6P0BpDZ",
    "outputId": "4c37f8bf-0008-48ae-b79d-9e7b08b0d182"
   },
   "outputs": [],
   "source": [
    "#random_cv.fit(x_train,y_train)"
   ]
  },
  {
   "cell_type": "code",
   "execution_count": 20,
   "metadata": {
    "colab": {
     "base_uri": "https://localhost:8080/",
     "height": 134
    },
    "colab_type": "code",
    "executionInfo": {
     "elapsed": 1125,
     "status": "ok",
     "timestamp": 1595741215177,
     "user": {
      "displayName": "Tejaswi Kanala",
      "photoUrl": "",
      "userId": "13244086744864706173"
     },
     "user_tz": -330
    },
    "id": "6bDmWDeHC0b9",
    "outputId": "87d82b26-3dfc-4b16-f509-134b876653d7"
   },
   "outputs": [],
   "source": [
    "#random_cv.best_estimator_"
   ]
  },
  {
   "cell_type": "code",
   "execution_count": 21,
   "metadata": {
    "colab": {},
    "colab_type": "code",
    "id": "uL5f38UAC7rK"
   },
   "outputs": [],
   "source": [
    "regressor = xgb.XGBRegressor(base_score=0.5, booster='gbtree', colsample_bylevel=1,\n",
    "             colsample_bynode=1, colsample_bytree=1, gamma=0.2,\n",
    "             importance_type='gain', learning_rate=0.1, max_delta_step=0,\n",
    "             max_depth=10, min_child_weight=4, missing=None, n_estimators=1500,\n",
    "             n_jobs=1, nthread=None, objective='reg:linear', random_state=0,\n",
    "             reg_alpha=0, reg_lambda=1, scale_pos_weight=1, seed=None,\n",
    "             silent=None, subsample=1, verbosity=1)"
   ]
  },
  {
   "cell_type": "code",
   "execution_count": 22,
   "metadata": {
    "colab": {
     "base_uri": "https://localhost:8080/",
     "height": 151
    },
    "colab_type": "code",
    "executionInfo": {
     "elapsed": 15929,
     "status": "ok",
     "timestamp": 1595755098751,
     "user": {
      "displayName": "Tejaswi Kanala",
      "photoUrl": "",
      "userId": "13244086744864706173"
     },
     "user_tz": -330
    },
    "id": "FpolT8f2DDga",
    "outputId": "1b0eaf43-5f36-4eba-e49b-4fcfb79b04f7"
   },
   "outputs": [
    {
     "name": "stdout",
     "output_type": "stream",
     "text": [
      "[16:25:41] WARNING: C:/Users/Administrator/workspace/xgboost-win64_release_1.2.0/src/objective/regression_obj.cu:174: reg:linear is now deprecated in favor of reg:squarederror.\n",
      "[16:25:58] WARNING: C:/Users/Administrator/workspace/xgboost-win64_release_1.2.0/src/objective/regression_obj.cu:174: reg:linear is now deprecated in favor of reg:squarederror.\n"
     ]
    },
    {
     "data": {
      "text/plain": [
       "XGBRegressor(base_score=0.5, booster='gbtree', colsample_bylevel=1,\n",
       "             colsample_bynode=1, colsample_bytree=1, gamma=0.2, gpu_id=-1,\n",
       "             importance_type='gain', interaction_constraints='',\n",
       "             learning_rate=0.1, max_delta_step=0, max_depth=10,\n",
       "             min_child_weight=4, missing=None, monotone_constraints='()',\n",
       "             n_estimators=1500, n_jobs=1, nthread=1, num_parallel_tree=1,\n",
       "             objective='reg:linear', random_state=0, reg_alpha=0, reg_lambda=1,\n",
       "             scale_pos_weight=1, seed=0, silent=None, subsample=1,\n",
       "             tree_method='exact', validate_parameters=1, verbosity=1)"
      ]
     },
     "execution_count": 22,
     "metadata": {},
     "output_type": "execute_result"
    }
   ],
   "source": [
    "regressor.fit(x_train,y_train)"
   ]
  },
  {
   "cell_type": "code",
   "execution_count": 23,
   "metadata": {
    "colab": {},
    "colab_type": "code",
    "id": "gW-YSMFhDIbh"
   },
   "outputs": [],
   "source": [
    "ypred = regressor.predict(x_test)"
   ]
  },
  {
   "cell_type": "markdown",
   "metadata": {},
   "source": [
    "Test RMSE"
   ]
  },
  {
   "cell_type": "code",
   "execution_count": 24,
   "metadata": {
    "colab": {
     "base_uri": "https://localhost:8080/",
     "height": 34
    },
    "colab_type": "code",
    "executionInfo": {
     "elapsed": 1236,
     "status": "ok",
     "timestamp": 1595755103914,
     "user": {
      "displayName": "Tejaswi Kanala",
      "photoUrl": "",
      "userId": "13244086744864706173"
     },
     "user_tz": -330
    },
    "id": "N5uvq5_KDNv1",
    "outputId": "b00d5689-df1f-4062-8f61-5d423aa294a1"
   },
   "outputs": [
    {
     "data": {
      "text/plain": [
       "0.14165493991910133"
      ]
     },
     "execution_count": 24,
     "metadata": {},
     "output_type": "execute_result"
    }
   ],
   "source": [
    "from sklearn.metrics import mean_squared_error\n",
    "np.sqrt(mean_squared_error(y_test,ypred))"
   ]
  },
  {
   "cell_type": "code",
   "execution_count": 25,
   "metadata": {
    "colab": {
     "base_uri": "https://localhost:8080/",
     "height": 34
    },
    "colab_type": "code",
    "executionInfo": {
     "elapsed": 1128,
     "status": "ok",
     "timestamp": 1595755106494,
     "user": {
      "displayName": "Tejaswi Kanala",
      "photoUrl": "",
      "userId": "13244086744864706173"
     },
     "user_tz": -330
    },
    "id": "qN2KSoowDVF0",
    "outputId": "b390fe7d-a7ce-4c0d-bc97-480fcc6f497f"
   },
   "outputs": [
    {
     "name": "stdout",
     "output_type": "stream",
     "text": [
      "0.892472302157507\n"
     ]
    }
   ],
   "source": [
    "from sklearn.metrics import r2_score\n",
    "print(r2_score(y_test, ypred))"
   ]
  },
  {
   "cell_type": "code",
   "execution_count": 26,
   "metadata": {
    "colab": {},
    "colab_type": "code",
    "id": "D4ZTZBZ6RbCI"
   },
   "outputs": [],
   "source": [
    "y_pred_train = regressor.predict(x_train)"
   ]
  },
  {
   "cell_type": "markdown",
   "metadata": {},
   "source": [
    "Train RMSE"
   ]
  },
  {
   "cell_type": "code",
   "execution_count": 27,
   "metadata": {
    "colab": {
     "base_uri": "https://localhost:8080/",
     "height": 34
    },
    "colab_type": "code",
    "executionInfo": {
     "elapsed": 917,
     "status": "ok",
     "timestamp": 1595743621578,
     "user": {
      "displayName": "Tejaswi Kanala",
      "photoUrl": "",
      "userId": "13244086744864706173"
     },
     "user_tz": -330
    },
    "id": "FleatQpPc0Fv",
    "outputId": "86bebc81-822c-44cb-b489-7007a0647cd7"
   },
   "outputs": [
    {
     "data": {
      "text/plain": [
       "0.10059751511067853"
      ]
     },
     "execution_count": 27,
     "metadata": {},
     "output_type": "execute_result"
    }
   ],
   "source": [
    "np.sqrt(mean_squared_error(y_train,y_pred_train))"
   ]
  },
  {
   "cell_type": "code",
   "execution_count": 28,
   "metadata": {
    "colab": {
     "base_uri": "https://localhost:8080/",
     "height": 34
    },
    "colab_type": "code",
    "executionInfo": {
     "elapsed": 1552,
     "status": "ok",
     "timestamp": 1595700161136,
     "user": {
      "displayName": "Tejaswi Kanala",
      "photoUrl": "",
      "userId": "13244086744864706173"
     },
     "user_tz": -330
    },
    "id": "E_VBUqMERrld",
    "outputId": "07c6b118-272d-4ea9-be0b-3df173d517d6"
   },
   "outputs": [
    {
     "name": "stdout",
     "output_type": "stream",
     "text": [
      "0.9336160539649072\n"
     ]
    }
   ],
   "source": [
    "print(r2_score(y_train,y_pred_train))"
   ]
  },
  {
   "cell_type": "code",
   "execution_count": 29,
   "metadata": {
    "colab": {
     "base_uri": "https://localhost:8080/",
     "height": 301
    },
    "colab_type": "code",
    "executionInfo": {
     "elapsed": 9628,
     "status": "ok",
     "timestamp": 1595574645606,
     "user": {
      "displayName": "Tejaswi Kanala",
      "photoUrl": "",
      "userId": "13244086744864706173"
     },
     "user_tz": -330
    },
    "id": "zpW04iO-DaSq",
    "outputId": "e8ff1779-73e0-4229-94cd-6d13700d8b4e"
   },
   "outputs": [
    {
     "data": {
      "text/plain": [
       "0.892472302157507"
      ]
     },
     "execution_count": 29,
     "metadata": {},
     "output_type": "execute_result"
    },
    {
     "data": {
      "image/png": "[encoded data removed]",
      "text/plain": [
       "<Figure size 576x396 with 2 Axes>"
      ]
     },
     "metadata": {},
     "output_type": "display_data"
    }
   ],
   "source": [
    "from yellowbrick.regressor import ResidualsPlot\n",
    "visualizer = ResidualsPlot(regressor)\n",
    "visualizer.fit(x_train, y_train)\n",
    "visualizer.score(x_test, y_test)"
   ]
  },
  {
   "cell_type": "code",
   "execution_count": 30,
   "metadata": {
    "colab": {},
    "colab_type": "code",
    "id": "zUgpO6vnSKgU"
   },
   "outputs": [],
   "source": [
    "ypred_norm = np.expm1(regressor.predict(x_test))"
   ]
  },
  {
   "cell_type": "code",
   "execution_count": 31,
   "metadata": {
    "colab": {},
    "colab_type": "code",
    "id": "AxryDnFfT6VF"
   },
   "outputs": [],
   "source": [
    "ytest_norm = np.expm1(y_test)"
   ]
  },
  {
   "cell_type": "code",
   "execution_count": 32,
   "metadata": {
    "colab": {
     "base_uri": "https://localhost:8080/",
     "height": 34
    },
    "colab_type": "code",
    "executionInfo": {
     "elapsed": 1135,
     "status": "ok",
     "timestamp": 1595739014420,
     "user": {
      "displayName": "Tejaswi Kanala",
      "photoUrl": "",
      "userId": "13244086744864706173"
     },
     "user_tz": -330
    },
    "id": "FcuoUqtBT98A",
    "outputId": "25bd6214-ddd1-4d3d-88ca-0fde5e592cc1"
   },
   "outputs": [
    {
     "data": {
      "text/plain": [
       "30718.769053865613"
      ]
     },
     "execution_count": 32,
     "metadata": {},
     "output_type": "execute_result"
    }
   ],
   "source": [
    "from sklearn.metrics import mean_squared_error\n",
    "np.sqrt(mean_squared_error(ytest_norm,ypred_norm))"
   ]
  },
  {
   "cell_type": "code",
   "execution_count": 33,
   "metadata": {
    "colab": {
     "base_uri": "https://localhost:8080/",
     "height": 168
    },
    "colab_type": "code",
    "executionInfo": {
     "elapsed": 840,
     "status": "ok",
     "timestamp": 1595585622610,
     "user": {
      "displayName": "Tejaswi Kanala",
      "photoUrl": "",
      "userId": "13244086744864706173"
     },
     "user_tz": -330
    },
    "id": "71EDuYGpUCn9",
    "outputId": "7e7ca36c-d70b-4be6-ab06-b7b63f981cf6"
   },
   "outputs": [
    {
     "data": {
      "text/plain": [
       "count       292.000000\n",
       "mean      17337.275056\n",
       "std       25402.194781\n",
       "min          26.046875\n",
       "25%        4704.753906\n",
       "50%       10822.671875\n",
       "75%       20389.335938\n",
       "max      272409.562500\n",
       "Name: SalePrice, dtype: float64"
      ]
     },
     "execution_count": 33,
     "metadata": {},
     "output_type": "execute_result"
    }
   ],
   "source": [
    "(ypred_norm - ytest_norm).abs().describe()"
   ]
  },
  {
   "cell_type": "code",
   "execution_count": 34,
   "metadata": {
    "colab": {},
    "colab_type": "code",
    "id": "qL_-cQ7yif1W"
   },
   "outputs": [],
   "source": [
    "importances = regressor.feature_importances_"
   ]
  },
  {
   "cell_type": "code",
   "execution_count": 35,
   "metadata": {
    "colab": {},
    "colab_type": "code",
    "id": "OgbQOIgIilK8"
   },
   "outputs": [],
   "source": [
    "indices = np.argsort(importances)[::-1]"
   ]
  },
  {
   "cell_type": "code",
   "execution_count": 36,
   "metadata": {
    "colab": {},
    "colab_type": "code",
    "id": "l38C941piowZ"
   },
   "outputs": [],
   "source": [
    "names = [x_train.columns[i] for i in indices]"
   ]
  },
  {
   "cell_type": "code",
   "execution_count": 37,
   "metadata": {
    "colab": {
     "base_uri": "https://localhost:8080/",
     "height": 832
    },
    "colab_type": "code",
    "executionInfo": {
     "elapsed": 9611,
     "status": "ok",
     "timestamp": 1595574645613,
     "user": {
      "displayName": "Tejaswi Kanala",
      "photoUrl": "",
      "userId": "13244086744864706173"
     },
     "user_tz": -330
    },
    "id": "TCO45ct8isq3",
    "outputId": "1c845837-07dc-4059-cca3-2402654c198a"
   },
   "outputs": [
    {
     "data": {
      "text/plain": [
       "([<matplotlib.axis.XTick at 0x284b4b99cf8>,\n",
       "  <matplotlib.axis.XTick at 0x284b4b998d0>,\n",
       "  <matplotlib.axis.XTick at 0x284b4b99518>,\n",
       "  <matplotlib.axis.XTick at 0x284b4bcff28>,\n",
       "  <matplotlib.axis.XTick at 0x284b4be1128>,\n",
       "  <matplotlib.axis.XTick at 0x284b4be1748>,\n",
       "  <matplotlib.axis.XTick at 0x284b4be1be0>,\n",
       "  <matplotlib.axis.XTick at 0x284b4beb0b8>,\n",
       "  <matplotlib.axis.XTick at 0x284b4beb550>,\n",
       "  <matplotlib.axis.XTick at 0x284b4beb9e8>],\n",
       " [Text(0, 0, 'GarageFinish'),\n",
       "  Text(1, 0, 'GarageCars'),\n",
       "  Text(2, 0, 'FireplaceQu'),\n",
       "  Text(3, 0, 'Neighborhood'),\n",
       "  Text(4, 0, 'KitchenQual'),\n",
       "  Text(5, 0, 'TotalBsmtSF'),\n",
       "  Text(6, 0, 'OverallQual'),\n",
       "  Text(7, 0, 'GarageType'),\n",
       "  Text(8, 0, 'GarageArea'),\n",
       "  Text(9, 0, 'GarageCond')])"
      ]
     },
     "execution_count": 37,
     "metadata": {},
     "output_type": "execute_result"
    },
    {
     "data": {
      "image/png": "[encoded data removed]",
      "text/plain": [
       "<Figure size 1080x504 with 1 Axes>"
      ]
     },
     "metadata": {},
     "output_type": "display_data"
    }
   ],
   "source": [
    "plt.figure(figsize=(15, 7)) # Create plot\n",
    "plt.title(\"Top 10 Most Important Features\") # Create plot title\n",
    "plt.bar(range(10), importances[indices][:10]) # Add bars\n",
    "plt.xticks(range(10), names[:10], rotation=90)"
   ]
  },
  {
   "cell_type": "markdown",
   "metadata": {
    "colab_type": "text",
    "id": "Sm4Q_aFFfjQV"
   },
   "source": [
    "XGBoost with top 10 features"
   ]
  },
  {
   "cell_type": "code",
   "execution_count": 38,
   "metadata": {
    "colab": {},
    "colab_type": "code",
    "executionInfo": {
     "elapsed": 930,
     "status": "ok",
     "timestamp": 1595838532015,
     "user": {
      "displayName": "Tejaswi Kanala",
      "photoUrl": "",
      "userId": "13244086744864706173"
     },
     "user_tz": -330
    },
    "id": "dsSjN5ruru5s"
   },
   "outputs": [],
   "source": [
    "#Xgboost with important most important features\n",
    "y = df['SalePrice']\n",
    "x = df[['GarageCars','KitchenQual','FireplaceQu','GarageCond','GarageType','GarageFinish','OverallQual','GrLivArea','Neighborhood','TotalBsmtSF']]"
   ]
  },
  {
   "cell_type": "code",
   "execution_count": 39,
   "metadata": {
    "colab": {},
    "colab_type": "code",
    "executionInfo": {
     "elapsed": 1102,
     "status": "ok",
     "timestamp": 1595838533763,
     "user": {
      "displayName": "Tejaswi Kanala",
      "photoUrl": "",
      "userId": "13244086744864706173"
     },
     "user_tz": -330
    },
    "id": "GYj2bt3_szjh"
   },
   "outputs": [],
   "source": [
    "xg_reg = xgb.XGBRegressor()"
   ]
  },
  {
   "cell_type": "code",
   "execution_count": 40,
   "metadata": {
    "colab": {},
    "colab_type": "code",
    "executionInfo": {
     "elapsed": 1003,
     "status": "ok",
     "timestamp": 1595838535101,
     "user": {
      "displayName": "Tejaswi Kanala",
      "photoUrl": "",
      "userId": "13244086744864706173"
     },
     "user_tz": -330
    },
    "id": "O3-o12l5tN2i"
   },
   "outputs": [],
   "source": [
    "x_train,x_test,y_train,y_test = train_test_split(x,y,test_size=0.2,random_state=42)"
   ]
  },
  {
   "cell_type": "code",
   "execution_count": 41,
   "metadata": {
    "colab": {},
    "colab_type": "code",
    "id": "YhXQLX7NtPQp"
   },
   "outputs": [],
   "source": [
    "params = {'n_estimators':[100,500,900,1100,1500],\n",
    "          'max_depth':[2,3,5,10,15],\n",
    "          'booster':['gbtree','gblinear'],\n",
    "          'learning_rate':[0.05,0.1,0.15,0.20],\n",
    "          'min_child_weight':[1,2,3,4],\n",
    "          \n",
    "          }"
   ]
  },
  {
   "cell_type": "code",
   "execution_count": 42,
   "metadata": {
    "colab": {},
    "colab_type": "code",
    "id": "81dFXaydtVDS"
   },
   "outputs": [],
   "source": [
    "from sklearn.model_selection import RandomizedSearchCV\n",
    "random_cv = RandomizedSearchCV(estimator=xg_reg,param_distributions=params,\n",
    "                               cv=5,n_iter=50,\n",
    "                               scoring='neg_mean_absolute_error',n_jobs=4,\n",
    "                               verbose=5,\n",
    "                               return_train_score=True,\n",
    "                               random_state=42)"
   ]
  },
  {
   "cell_type": "code",
   "execution_count": 43,
   "metadata": {
    "colab": {
     "base_uri": "https://localhost:8080/",
     "height": 521
    },
    "colab_type": "code",
    "executionInfo": {
     "elapsed": 78985,
     "status": "ok",
     "timestamp": 1595592359400,
     "user": {
      "displayName": "Tejaswi Kanala",
      "photoUrl": "",
      "userId": "13244086744864706173"
     },
     "user_tz": -330
    },
    "id": "T3g29PV2tbuz",
    "outputId": "0b78bb26-9b93-49b7-b776-e40d11d393de"
   },
   "outputs": [],
   "source": [
    "#random_cv.fit(x_train,y_train)"
   ]
  },
  {
   "cell_type": "code",
   "execution_count": 44,
   "metadata": {
    "colab": {
     "base_uri": "https://localhost:8080/",
     "height": 134
    },
    "colab_type": "code",
    "executionInfo": {
     "elapsed": 890,
     "status": "ok",
     "timestamp": 1595592380015,
     "user": {
      "displayName": "Tejaswi Kanala",
      "photoUrl": "",
      "userId": "13244086744864706173"
     },
     "user_tz": -330
    },
    "id": "UF2iJ26_tjtm",
    "outputId": "f26d94cf-ea45-4e7f-c27c-99423ef11ed0"
   },
   "outputs": [],
   "source": [
    "#random_cv.best_estimator_"
   ]
  },
  {
   "cell_type": "code",
   "execution_count": 45,
   "metadata": {
    "colab": {},
    "colab_type": "code",
    "executionInfo": {
     "elapsed": 855,
     "status": "ok",
     "timestamp": 1595838539593,
     "user": {
      "displayName": "Tejaswi Kanala",
      "photoUrl": "",
      "userId": "13244086744864706173"
     },
     "user_tz": -330
    },
    "id": "m1XOhIfpt5vt"
   },
   "outputs": [],
   "source": [
    "xg_reg = xgb.XGBRegressor(base_score=0.5, booster='gbtree', colsample_bylevel=1,\n",
    "             colsample_bynode=1, colsample_bytree=1, gamma=0,\n",
    "             importance_type='gain', learning_rate=0.15, max_delta_step=0,\n",
    "             max_depth=2, min_child_weight=4, missing=None, n_estimators=100,\n",
    "             n_jobs=1, nthread=None, objective='reg:linear', random_state=0,\n",
    "             reg_alpha=0, reg_lambda=1, scale_pos_weight=1, seed=None,\n",
    "             silent=None, subsample=1, verbosity=1)"
   ]
  },
  {
   "cell_type": "code",
   "execution_count": 46,
   "metadata": {
    "colab": {
     "base_uri": "https://localhost:8080/",
     "height": 151
    },
    "colab_type": "code",
    "executionInfo": {
     "elapsed": 902,
     "status": "ok",
     "timestamp": 1595838542474,
     "user": {
      "displayName": "Tejaswi Kanala",
      "photoUrl": "",
      "userId": "13244086744864706173"
     },
     "user_tz": -330
    },
    "id": "NLyml1WBtpq0",
    "outputId": "17e09cf5-1022-4968-eb4e-92d2c5ec9488"
   },
   "outputs": [
    {
     "name": "stdout",
     "output_type": "stream",
     "text": [
      "[16:25:59] WARNING: C:/Users/Administrator/workspace/xgboost-win64_release_1.2.0/src/objective/regression_obj.cu:174: reg:linear is now deprecated in favor of reg:squarederror.\n",
      "[16:25:59] WARNING: C:/Users/Administrator/workspace/xgboost-win64_release_1.2.0/src/objective/regression_obj.cu:174: reg:linear is now deprecated in favor of reg:squarederror.\n"
     ]
    },
    {
     "data": {
      "text/plain": [
       "XGBRegressor(base_score=0.5, booster='gbtree', colsample_bylevel=1,\n",
       "             colsample_bynode=1, colsample_bytree=1, gamma=0, gpu_id=-1,\n",
       "             importance_type='gain', interaction_constraints='',\n",
       "             learning_rate=0.15, max_delta_step=0, max_depth=2,\n",
       "             min_child_weight=4, missing=None, monotone_constraints='()',\n",
       "             n_estimators=100, n_jobs=1, nthread=1, num_parallel_tree=1,\n",
       "             objective='reg:linear', random_state=0, reg_alpha=0, reg_lambda=1,\n",
       "             scale_pos_weight=1, seed=0, silent=None, subsample=1,\n",
       "             tree_method='exact', validate_parameters=1, verbosity=1)"
      ]
     },
     "execution_count": 46,
     "metadata": {},
     "output_type": "execute_result"
    }
   ],
   "source": [
    "xg_reg.fit(x_train,y_train)"
   ]
  },
  {
   "cell_type": "code",
   "execution_count": 47,
   "metadata": {
    "colab": {},
    "colab_type": "code",
    "executionInfo": {
     "elapsed": 1135,
     "status": "ok",
     "timestamp": 1595838544895,
     "user": {
      "displayName": "Tejaswi Kanala",
      "photoUrl": "",
      "userId": "13244086744864706173"
     },
     "user_tz": -330
    },
    "id": "e0v_e1KzuFmm"
   },
   "outputs": [],
   "source": [
    "y_pred = xg_reg.predict(x_test)"
   ]
  },
  {
   "cell_type": "markdown",
   "metadata": {},
   "source": [
    "Test RMSE"
   ]
  },
  {
   "cell_type": "code",
   "execution_count": 48,
   "metadata": {
    "colab": {
     "base_uri": "https://localhost:8080/",
     "height": 34
    },
    "colab_type": "code",
    "executionInfo": {
     "elapsed": 891,
     "status": "ok",
     "timestamp": 1595838546609,
     "user": {
      "displayName": "Tejaswi Kanala",
      "photoUrl": "",
      "userId": "13244086744864706173"
     },
     "user_tz": -330
    },
    "id": "PvlJCM55uKnw",
    "outputId": "9ef1e756-a08b-4583-cd3d-77950b429a8a"
   },
   "outputs": [
    {
     "data": {
      "text/plain": [
       "0.14978430086383865"
      ]
     },
     "execution_count": 48,
     "metadata": {},
     "output_type": "execute_result"
    }
   ],
   "source": [
    "#test rmse\n",
    "from sklearn.metrics import mean_squared_error\n",
    "np.sqrt(mean_squared_error(y_test,y_pred))"
   ]
  },
  {
   "cell_type": "code",
   "execution_count": 49,
   "metadata": {
    "colab": {},
    "colab_type": "code",
    "executionInfo": {
     "elapsed": 1025,
     "status": "ok",
     "timestamp": 1595838548793,
     "user": {
      "displayName": "Tejaswi Kanala",
      "photoUrl": "",
      "userId": "13244086744864706173"
     },
     "user_tz": -330
    },
    "id": "REgoiqX1ekbq"
   },
   "outputs": [],
   "source": [
    "y_pred_train = xg_reg.predict(x_train)"
   ]
  },
  {
   "cell_type": "markdown",
   "metadata": {},
   "source": [
    "Train RMSE"
   ]
  },
  {
   "cell_type": "code",
   "execution_count": 50,
   "metadata": {
    "colab": {
     "base_uri": "https://localhost:8080/",
     "height": 34
    },
    "colab_type": "code",
    "executionInfo": {
     "elapsed": 1020,
     "status": "ok",
     "timestamp": 1595838550476,
     "user": {
      "displayName": "Tejaswi Kanala",
      "photoUrl": "",
      "userId": "13244086744864706173"
     },
     "user_tz": -330
    },
    "id": "RqzDOWEcepPz",
    "outputId": "c2c00aad-52e1-474a-cc0c-2da4bd2a7804"
   },
   "outputs": [
    {
     "data": {
      "text/plain": [
       "0.12731749318261967"
      ]
     },
     "execution_count": 50,
     "metadata": {},
     "output_type": "execute_result"
    }
   ],
   "source": [
    "#train rmse\n",
    "np.sqrt(mean_squared_error(y_train,y_pred_train))"
   ]
  },
  {
   "cell_type": "code",
   "execution_count": 51,
   "metadata": {
    "colab": {},
    "colab_type": "code",
    "executionInfo": {
     "elapsed": 818,
     "status": "ok",
     "timestamp": 1595838552758,
     "user": {
      "displayName": "Tejaswi Kanala",
      "photoUrl": "",
      "userId": "13244086744864706173"
     },
     "user_tz": -330
    },
    "id": "kKjfTpsU2bA0"
   },
   "outputs": [],
   "source": [
    "ypred_norm = np.expm1(xg_reg.predict(x_test))\n",
    "ytest_norm = np.expm1(y_test)"
   ]
  },
  {
   "cell_type": "code",
   "execution_count": 71,
   "metadata": {},
   "outputs": [
    {
     "data": {
      "text/plain": [
       "139325.56"
      ]
     },
     "execution_count": 71,
     "metadata": {},
     "output_type": "execute_result"
    }
   ],
   "source": [
    "ypred_norm[0]"
   ]
  },
  {
   "cell_type": "code",
   "execution_count": 65,
   "metadata": {},
   "outputs": [
    {
     "data": {
      "text/plain": [
       "15173.437499999884"
      ]
     },
     "execution_count": 65,
     "metadata": {},
     "output_type": "execute_result"
    }
   ],
   "source": [
    "ytest_norm.iloc[0]-ypred_norm[0]"
   ]
  },
  {
   "cell_type": "code",
   "execution_count": null,
   "metadata": {},
   "outputs": [],
   "source": []
  },
  {
   "cell_type": "code",
   "execution_count": 52,
   "metadata": {
    "colab": {
     "base_uri": "https://localhost:8080/",
     "height": 34
    },
    "colab_type": "code",
    "executionInfo": {
     "elapsed": 1047,
     "status": "ok",
     "timestamp": 1595838554482,
     "user": {
      "displayName": "Tejaswi Kanala",
      "photoUrl": "",
      "userId": "13244086744864706173"
     },
     "user_tz": -330
    },
    "id": "YvliLKyu2O-k",
    "outputId": "0d705800-c5a9-4c9b-9085-d60a1ee7f46f"
   },
   "outputs": [
    {
     "data": {
      "text/plain": [
       "29272.42797452829"
      ]
     },
     "execution_count": 52,
     "metadata": {},
     "output_type": "execute_result"
    }
   ],
   "source": [
    "#test rmse\n",
    "from sklearn.metrics import mean_squared_error\n",
    "np.sqrt(mean_squared_error(ytest_norm,ypred_norm))"
   ]
  },
  {
   "cell_type": "code",
   "execution_count": 53,
   "metadata": {
    "colab": {},
    "colab_type": "code",
    "executionInfo": {
     "elapsed": 886,
     "status": "ok",
     "timestamp": 1595838556037,
     "user": {
      "displayName": "Tejaswi Kanala",
      "photoUrl": "",
      "userId": "13244086744864706173"
     },
     "user_tz": -330
    },
    "id": "9fNKppkF2rn7"
   },
   "outputs": [],
   "source": [
    "ytrain_norm = np.expm1(y_train)\n",
    "ypred_train_norm = np.expm1(xg_reg.predict(x_train))"
   ]
  },
  {
   "cell_type": "code",
   "execution_count": 54,
   "metadata": {
    "colab": {
     "base_uri": "https://localhost:8080/",
     "height": 34
    },
    "colab_type": "code",
    "executionInfo": {
     "elapsed": 794,
     "status": "ok",
     "timestamp": 1595838557561,
     "user": {
      "displayName": "Tejaswi Kanala",
      "photoUrl": "",
      "userId": "13244086744864706173"
     },
     "user_tz": -330
    },
    "id": "7MnrTA7A20WV",
    "outputId": "12103fa7-2a91-4d72-90ca-91fb57c833f9"
   },
   "outputs": [
    {
     "data": {
      "text/plain": [
       "24298.58666486339"
      ]
     },
     "execution_count": 54,
     "metadata": {},
     "output_type": "execute_result"
    }
   ],
   "source": [
    "#train rmse\n",
    "np.sqrt(mean_squared_error(ytrain_norm,ypred_train_norm))"
   ]
  },
  {
   "cell_type": "code",
   "execution_count": 55,
   "metadata": {},
   "outputs": [],
   "source": [
    "#ytest_norm.describe()"
   ]
  },
  {
   "cell_type": "code",
   "execution_count": 67,
   "metadata": {},
   "outputs": [
    {
     "data": {
      "text/plain": [
       "892     15173.437500\n",
       "1105     9743.843750\n",
       "413      7028.789063\n",
       "522      8376.187500\n",
       "1036     7002.750000\n",
       "            ...     \n",
       "479     23073.445312\n",
       "1361    26343.453125\n",
       "802      1755.937500\n",
       "651     17541.750000\n",
       "722     12694.343750\n",
       "Name: SalePrice, Length: 292, dtype: float64"
      ]
     },
     "execution_count": 67,
     "metadata": {},
     "output_type": "execute_result"
    }
   ],
   "source": [
    "(ypred_norm - ytest_norm).abs()"
   ]
  },
  {
   "cell_type": "code",
   "execution_count": 57,
   "metadata": {},
   "outputs": [
    {
     "data": {
      "text/plain": [
       "count       292.000000\n",
       "mean     177373.453125\n",
       "std       78315.164062\n",
       "min       54848.101562\n",
       "25%      124736.625000\n",
       "50%      152988.906250\n",
       "75%      207674.156250\n",
       "max      563373.125000\n",
       "dtype: float64"
      ]
     },
     "execution_count": 57,
     "metadata": {},
     "output_type": "execute_result"
    }
   ],
   "source": [
    "pd.Series(ypred_norm).describe()"
   ]
  },
  {
   "cell_type": "code",
   "execution_count": null,
   "metadata": {},
   "outputs": [],
   "source": []
  },
  {
   "cell_type": "code",
   "execution_count": 58,
   "metadata": {
    "colab": {
     "base_uri": "https://localhost:8080/",
     "height": 434
    },
    "colab_type": "code",
    "executionInfo": {
     "elapsed": 2210,
     "status": "ok",
     "timestamp": 1595838592506,
     "user": {
      "displayName": "Tejaswi Kanala",
      "photoUrl": "",
      "userId": "13244086744864706173"
     },
     "user_tz": -330
    },
    "id": "Kabc7TjEY_NA",
    "outputId": "f8c007f4-94c4-40ef-a59d-852845b90b61"
   },
   "outputs": [
    {
     "data": {
      "text/plain": [
       "0.8797764653069444"
      ]
     },
     "execution_count": 58,
     "metadata": {},
     "output_type": "execute_result"
    },
    {
     "data": {
      "image/png": "[encoded data removed]",
      "text/plain": [
       "<Figure size 576x396 with 2 Axes>"
      ]
     },
     "metadata": {},
     "output_type": "display_data"
    }
   ],
   "source": [
    "from yellowbrick.regressor import ResidualsPlot\n",
    "visualizer = ResidualsPlot(xg_reg)\n",
    "visualizer.fit(x_train, y_train)\n",
    "visualizer.score(x_test, y_test)\n",
    "#there is good scatter of data which tells the model is good fit"
   ]
  },
  {
   "cell_type": "code",
   "execution_count": 59,
   "metadata": {
    "colab": {
     "base_uri": "https://localhost:8080/",
     "height": 296
    },
    "colab_type": "code",
    "executionInfo": {
     "elapsed": 968,
     "status": "ok",
     "timestamp": 1595750532370,
     "user": {
      "displayName": "Tejaswi Kanala",
      "photoUrl": "",
      "userId": "13244086744864706173"
     },
     "user_tz": -330
    },
    "id": "0s0z68YuJAoK",
    "outputId": "61c0fa6f-8d85-46d1-b17a-577c02e9d38b"
   },
   "outputs": [
    {
     "data": {
      "text/plain": [
       "(0.0, 400000.0)"
      ]
     },
     "execution_count": 59,
     "metadata": {},
     "output_type": "execute_result"
    },
    {
     "data": {
      "image/png": "[encoded data removed]",
      "text/plain": [
       "<Figure size 576x396 with 1 Axes>"
      ]
     },
     "metadata": {},
     "output_type": "display_data"
    }
   ],
   "source": [
    "sns.boxplot(x=(ypred_norm - ytest_norm).abs(),data=df)\n",
    "plt.xlabel(\"residual\")\n",
    "plt.xlim(0,400000)\n",
    "#damn close to zero so it's a good result"
   ]
  }
 ],
 "metadata": {
  "colab": {
   "authorship_tag": "ABX9TyMobB1msBrL95mN0fRjNoIw",
   "name": "Tejaswi_Project_XGb.ipynb",
   "provenance": []
  },
  "kernelspec": {
   "display_name": "Python 3",
   "language": "python",
   "name": "python3"
  },
  "language_info": {
   "codemirror_mode": {
    "name": "ipython",
    "version": 3
   },
   "file_extension": ".py",
   "mimetype": "text/x-python",
   "name": "python",
   "nbconvert_exporter": "python",
   "pygments_lexer": "ipython3",
   "version": "3.8.8"
  }
 },
 "nbformat": 4,
 "nbformat_minor": 4
}
