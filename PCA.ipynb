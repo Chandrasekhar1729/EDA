{
 "cells": [
  {
   "cell_type": "code",
   "execution_count": 1,
   "metadata": {
    "colab": {
     "base_uri": "https://localhost:8080/",
     "height": 70
    },
    "colab_type": "code",
    "executionInfo": {
     "elapsed": 1134,
     "status": "ok",
     "timestamp": 1595740062272,
     "user": {
      "displayName": "Tejaswi Kanala",
      "photoUrl": "",
      "userId": "13244086744864706173"
     },
     "user_tz": -330
    },
    "id": "jotalqa8Aswc",
    "outputId": "1ef41275-4b2d-438c-ad93-e613eaf96e28"
   },
   "outputs": [],
   "source": [
    "import pandas as pd\n",
    "import numpy as np\n",
    "import seaborn as sns\n",
    "import matplotlib.pyplot as plt\n",
    "%matplotlib inline"
   ]
  },
  {
   "cell_type": "code",
   "execution_count": 2,
   "metadata": {
    "colab": {
     "base_uri": "https://localhost:8080/",
     "height": 244
    },
    "colab_type": "code",
    "executionInfo": {
     "elapsed": 1132,
     "status": "ok",
     "timestamp": 1595740064312,
     "user": {
      "displayName": "Tejaswi Kanala",
      "photoUrl": "",
      "userId": "13244086744864706173"
     },
     "user_tz": -330
    },
    "id": "hIEWfiuWB_bf",
    "outputId": "5acb3de8-11fe-4a56-e296-216d198db86d"
   },
   "outputs": [
    {
     "data": {
      "text/html": [
       "<div>\n",
       "<style scoped>\n",
       "    .dataframe tbody tr th:only-of-type {\n",
       "        vertical-align: middle;\n",
       "    }\n",
       "\n",
       "    .dataframe tbody tr th {\n",
       "        vertical-align: top;\n",
       "    }\n",
       "\n",
       "    .dataframe thead th {\n",
       "        text-align: right;\n",
       "    }\n",
       "</style>\n",
       "<table border=\"1\" class=\"dataframe\">\n",
       "  <thead>\n",
       "    <tr style=\"text-align: right;\">\n",
       "      <th></th>\n",
       "      <th>Id</th>\n",
       "      <th>SalePrice</th>\n",
       "      <th>MSSubClass</th>\n",
       "      <th>MSZoning</th>\n",
       "      <th>LotFrontage</th>\n",
       "      <th>LotArea</th>\n",
       "      <th>Street</th>\n",
       "      <th>Alley</th>\n",
       "      <th>LotShape</th>\n",
       "      <th>LandContour</th>\n",
       "      <th>...</th>\n",
       "      <th>Fence</th>\n",
       "      <th>MiscFeature</th>\n",
       "      <th>MiscVal</th>\n",
       "      <th>MoSold</th>\n",
       "      <th>YrSold</th>\n",
       "      <th>SaleType</th>\n",
       "      <th>SaleCondition</th>\n",
       "      <th>LotFrontageNaN</th>\n",
       "      <th>MasVnrAreaNaN</th>\n",
       "      <th>GarageYrBltNaN</th>\n",
       "    </tr>\n",
       "  </thead>\n",
       "  <tbody>\n",
       "    <tr>\n",
       "      <th>0</th>\n",
       "      <td>1</td>\n",
       "      <td>12.247694</td>\n",
       "      <td>0.235294</td>\n",
       "      <td>0.75</td>\n",
       "      <td>0.418208</td>\n",
       "      <td>0.366344</td>\n",
       "      <td>1.0</td>\n",
       "      <td>1.0</td>\n",
       "      <td>0.000000</td>\n",
       "      <td>0.333333</td>\n",
       "      <td>...</td>\n",
       "      <td>1.0</td>\n",
       "      <td>1.0</td>\n",
       "      <td>0.0</td>\n",
       "      <td>0.090909</td>\n",
       "      <td>0.50</td>\n",
       "      <td>0.666667</td>\n",
       "      <td>0.75</td>\n",
       "      <td>0.0</td>\n",
       "      <td>0.0</td>\n",
       "      <td>0.0</td>\n",
       "    </tr>\n",
       "    <tr>\n",
       "      <th>1</th>\n",
       "      <td>2</td>\n",
       "      <td>12.109011</td>\n",
       "      <td>0.000000</td>\n",
       "      <td>0.75</td>\n",
       "      <td>0.495064</td>\n",
       "      <td>0.391317</td>\n",
       "      <td>1.0</td>\n",
       "      <td>1.0</td>\n",
       "      <td>0.000000</td>\n",
       "      <td>0.333333</td>\n",
       "      <td>...</td>\n",
       "      <td>1.0</td>\n",
       "      <td>1.0</td>\n",
       "      <td>0.0</td>\n",
       "      <td>0.363636</td>\n",
       "      <td>0.25</td>\n",
       "      <td>0.666667</td>\n",
       "      <td>0.75</td>\n",
       "      <td>0.0</td>\n",
       "      <td>0.0</td>\n",
       "      <td>0.0</td>\n",
       "    </tr>\n",
       "    <tr>\n",
       "      <th>2</th>\n",
       "      <td>3</td>\n",
       "      <td>12.317167</td>\n",
       "      <td>0.235294</td>\n",
       "      <td>0.75</td>\n",
       "      <td>0.434909</td>\n",
       "      <td>0.422359</td>\n",
       "      <td>1.0</td>\n",
       "      <td>1.0</td>\n",
       "      <td>0.333333</td>\n",
       "      <td>0.333333</td>\n",
       "      <td>...</td>\n",
       "      <td>1.0</td>\n",
       "      <td>1.0</td>\n",
       "      <td>0.0</td>\n",
       "      <td>0.727273</td>\n",
       "      <td>0.50</td>\n",
       "      <td>0.666667</td>\n",
       "      <td>0.75</td>\n",
       "      <td>0.0</td>\n",
       "      <td>0.0</td>\n",
       "      <td>0.0</td>\n",
       "    </tr>\n",
       "    <tr>\n",
       "      <th>3</th>\n",
       "      <td>4</td>\n",
       "      <td>11.849398</td>\n",
       "      <td>0.294118</td>\n",
       "      <td>0.75</td>\n",
       "      <td>0.388581</td>\n",
       "      <td>0.390295</td>\n",
       "      <td>1.0</td>\n",
       "      <td>1.0</td>\n",
       "      <td>0.333333</td>\n",
       "      <td>0.333333</td>\n",
       "      <td>...</td>\n",
       "      <td>1.0</td>\n",
       "      <td>1.0</td>\n",
       "      <td>0.0</td>\n",
       "      <td>0.090909</td>\n",
       "      <td>0.00</td>\n",
       "      <td>0.666667</td>\n",
       "      <td>0.00</td>\n",
       "      <td>0.0</td>\n",
       "      <td>0.0</td>\n",
       "      <td>0.0</td>\n",
       "    </tr>\n",
       "    <tr>\n",
       "      <th>4</th>\n",
       "      <td>5</td>\n",
       "      <td>12.429216</td>\n",
       "      <td>0.235294</td>\n",
       "      <td>0.75</td>\n",
       "      <td>0.513123</td>\n",
       "      <td>0.468761</td>\n",
       "      <td>1.0</td>\n",
       "      <td>1.0</td>\n",
       "      <td>0.333333</td>\n",
       "      <td>0.333333</td>\n",
       "      <td>...</td>\n",
       "      <td>1.0</td>\n",
       "      <td>1.0</td>\n",
       "      <td>0.0</td>\n",
       "      <td>1.000000</td>\n",
       "      <td>0.50</td>\n",
       "      <td>0.666667</td>\n",
       "      <td>0.75</td>\n",
       "      <td>0.0</td>\n",
       "      <td>0.0</td>\n",
       "      <td>0.0</td>\n",
       "    </tr>\n",
       "  </tbody>\n",
       "</table>\n",
       "<p>5 rows × 84 columns</p>\n",
       "</div>"
      ],
      "text/plain": [
       "   Id  SalePrice  MSSubClass  MSZoning  LotFrontage   LotArea  Street  Alley  \\\n",
       "0   1  12.247694    0.235294      0.75     0.418208  0.366344     1.0    1.0   \n",
       "1   2  12.109011    0.000000      0.75     0.495064  0.391317     1.0    1.0   \n",
       "2   3  12.317167    0.235294      0.75     0.434909  0.422359     1.0    1.0   \n",
       "3   4  11.849398    0.294118      0.75     0.388581  0.390295     1.0    1.0   \n",
       "4   5  12.429216    0.235294      0.75     0.513123  0.468761     1.0    1.0   \n",
       "\n",
       "   LotShape  LandContour  ...  Fence  MiscFeature  MiscVal    MoSold  YrSold  \\\n",
       "0  0.000000     0.333333  ...    1.0          1.0      0.0  0.090909    0.50   \n",
       "1  0.000000     0.333333  ...    1.0          1.0      0.0  0.363636    0.25   \n",
       "2  0.333333     0.333333  ...    1.0          1.0      0.0  0.727273    0.50   \n",
       "3  0.333333     0.333333  ...    1.0          1.0      0.0  0.090909    0.00   \n",
       "4  0.333333     0.333333  ...    1.0          1.0      0.0  1.000000    0.50   \n",
       "\n",
       "   SaleType  SaleCondition  LotFrontageNaN  MasVnrAreaNaN  GarageYrBltNaN  \n",
       "0  0.666667           0.75             0.0            0.0             0.0  \n",
       "1  0.666667           0.75             0.0            0.0             0.0  \n",
       "2  0.666667           0.75             0.0            0.0             0.0  \n",
       "3  0.666667           0.00             0.0            0.0             0.0  \n",
       "4  0.666667           0.75             0.0            0.0             0.0  \n",
       "\n",
       "[5 rows x 84 columns]"
      ]
     },
     "execution_count": 2,
     "metadata": {},
     "output_type": "execute_result"
    }
   ],
   "source": [
    "df = pd.read_csv(r'train_processed.csv')\n",
    "df.head(5)"
   ]
  },
  {
   "cell_type": "code",
   "execution_count": 3,
   "metadata": {
    "colab": {},
    "colab_type": "code",
    "executionInfo": {
     "elapsed": 1257,
     "status": "ok",
     "timestamp": 1595740067592,
     "user": {
      "displayName": "Tejaswi Kanala",
      "photoUrl": "",
      "userId": "13244086744864706173"
     },
     "user_tz": -330
    },
    "id": "JUtymukdCGjg"
   },
   "outputs": [],
   "source": [
    "y = df['SalePrice']\n",
    "x = df.drop(['Id','SalePrice'],axis=1)\n"
   ]
  },
  {
   "cell_type": "code",
   "execution_count": 4,
   "metadata": {
    "colab": {
     "base_uri": "https://localhost:8080/",
     "height": 296
    },
    "colab_type": "code",
    "executionInfo": {
     "elapsed": 1678,
     "status": "ok",
     "timestamp": 1595740070819,
     "user": {
      "displayName": "Tejaswi Kanala",
      "photoUrl": "",
      "userId": "13244086744864706173"
     },
     "user_tz": -330
    },
    "id": "F03gHRGACU7g",
    "outputId": "84872ffc-4b68-4aae-cb3e-2f212c7ae9d1"
   },
   "outputs": [
    {
     "data": {
      "text/plain": [
       "Text(0, 0.5, 'cumulative explained variance')"
      ]
     },
     "execution_count": 4,
     "metadata": {},
     "output_type": "execute_result"
    },
    {
     "data": {
      "image/png": "[encoded data removed]",
      "text/plain": [
       "<Figure size 432x288 with 1 Axes>"
      ]
     },
     "metadata": {
      "needs_background": "light"
     },
     "output_type": "display_data"
    }
   ],
   "source": [
    "from sklearn.decomposition import PCA\n",
    "pca = PCA().fit(x)\n",
    "plt.plot(np.cumsum(pca.explained_variance_ratio_))\n",
    "plt.xlabel('number of components')\n",
    "plt.ylabel('cumulative explained variance')"
   ]
  },
  {
   "cell_type": "code",
   "execution_count": 5,
   "metadata": {
    "colab": {
     "base_uri": "https://localhost:8080/",
     "height": 34
    },
    "colab_type": "code",
    "executionInfo": {
     "elapsed": 1418,
     "status": "ok",
     "timestamp": 1595741814153,
     "user": {
      "displayName": "Tejaswi Kanala",
      "photoUrl": "",
      "userId": "13244086744864706173"
     },
     "user_tz": -330
    },
    "id": "x0zGSaWbDJeQ",
    "outputId": "4f97e6ab-2b0b-49be-e585-f9e0e12acacc"
   },
   "outputs": [
    {
     "name": "stdout",
     "output_type": "stream",
     "text": [
      "(1460, 50)\n"
     ]
    }
   ],
   "source": [
    "pca = PCA(50)  # project from 84 to 40 dimensions\n",
    "X_pca = pca.fit_transform(x)\n",
    "print(X_pca.shape)"
   ]
  },
  {
   "cell_type": "code",
   "execution_count": 6,
   "metadata": {
    "colab": {
     "base_uri": "https://localhost:8080/",
     "height": 34
    },
    "colab_type": "code",
    "executionInfo": {
     "elapsed": 1525,
     "status": "ok",
     "timestamp": 1595741817410,
     "user": {
      "displayName": "Tejaswi Kanala",
      "photoUrl": "",
      "userId": "13244086744864706173"
     },
     "user_tz": -330
    },
    "id": "GG-HygDfDRI1",
    "outputId": "899023c1-9ea4-4e0d-c1b7-179c3c5185dd"
   },
   "outputs": [
    {
     "data": {
      "text/plain": [
       "0.9529292039822849"
      ]
     },
     "execution_count": 6,
     "metadata": {},
     "output_type": "execute_result"
    }
   ],
   "source": [
    "pca.explained_variance_ratio_.sum()"
   ]
  },
  {
   "cell_type": "code",
   "execution_count": 7,
   "metadata": {
    "colab": {
     "base_uri": "https://localhost:8080/",
     "height": 422
    },
    "colab_type": "code",
    "executionInfo": {
     "elapsed": 1234,
     "status": "ok",
     "timestamp": 1595741820545,
     "user": {
      "displayName": "Tejaswi Kanala",
      "photoUrl": "",
      "userId": "13244086744864706173"
     },
     "user_tz": -330
    },
    "id": "moliq2pkNtCx",
    "outputId": "b5025dec-8e36-4bea-da05-58cf48b4ba11"
   },
   "outputs": [
    {
     "data": {
      "text/html": [
       "<div>\n",
       "<style scoped>\n",
       "    .dataframe tbody tr th:only-of-type {\n",
       "        vertical-align: middle;\n",
       "    }\n",
       "\n",
       "    .dataframe tbody tr th {\n",
       "        vertical-align: top;\n",
       "    }\n",
       "\n",
       "    .dataframe thead th {\n",
       "        text-align: right;\n",
       "    }\n",
       "</style>\n",
       "<table border=\"1\" class=\"dataframe\">\n",
       "  <thead>\n",
       "    <tr style=\"text-align: right;\">\n",
       "      <th></th>\n",
       "      <th>0</th>\n",
       "      <th>1</th>\n",
       "      <th>2</th>\n",
       "      <th>3</th>\n",
       "      <th>4</th>\n",
       "      <th>5</th>\n",
       "      <th>6</th>\n",
       "      <th>7</th>\n",
       "      <th>8</th>\n",
       "      <th>9</th>\n",
       "      <th>...</th>\n",
       "      <th>40</th>\n",
       "      <th>41</th>\n",
       "      <th>42</th>\n",
       "      <th>43</th>\n",
       "      <th>44</th>\n",
       "      <th>45</th>\n",
       "      <th>46</th>\n",
       "      <th>47</th>\n",
       "      <th>48</th>\n",
       "      <th>49</th>\n",
       "    </tr>\n",
       "  </thead>\n",
       "  <tbody>\n",
       "    <tr>\n",
       "      <th>0</th>\n",
       "      <td>-0.822609</td>\n",
       "      <td>0.583752</td>\n",
       "      <td>0.164552</td>\n",
       "      <td>-0.180034</td>\n",
       "      <td>-0.186048</td>\n",
       "      <td>0.362798</td>\n",
       "      <td>0.012371</td>\n",
       "      <td>-0.302041</td>\n",
       "      <td>-0.026932</td>\n",
       "      <td>-0.113226</td>\n",
       "      <td>...</td>\n",
       "      <td>-0.036102</td>\n",
       "      <td>-0.027997</td>\n",
       "      <td>0.002126</td>\n",
       "      <td>0.001745</td>\n",
       "      <td>-0.011852</td>\n",
       "      <td>0.015123</td>\n",
       "      <td>0.025593</td>\n",
       "      <td>-0.023698</td>\n",
       "      <td>0.007782</td>\n",
       "      <td>0.045958</td>\n",
       "    </tr>\n",
       "    <tr>\n",
       "      <th>1</th>\n",
       "      <td>0.073519</td>\n",
       "      <td>-0.319406</td>\n",
       "      <td>0.012247</td>\n",
       "      <td>-0.004697</td>\n",
       "      <td>-0.188833</td>\n",
       "      <td>-0.614229</td>\n",
       "      <td>0.130776</td>\n",
       "      <td>0.131879</td>\n",
       "      <td>0.165503</td>\n",
       "      <td>-0.212177</td>\n",
       "      <td>...</td>\n",
       "      <td>0.243215</td>\n",
       "      <td>-0.040121</td>\n",
       "      <td>-0.079597</td>\n",
       "      <td>-0.137442</td>\n",
       "      <td>0.031383</td>\n",
       "      <td>0.012100</td>\n",
       "      <td>0.150971</td>\n",
       "      <td>-0.063865</td>\n",
       "      <td>-0.042137</td>\n",
       "      <td>0.014619</td>\n",
       "    </tr>\n",
       "    <tr>\n",
       "      <th>2</th>\n",
       "      <td>-0.961834</td>\n",
       "      <td>0.375955</td>\n",
       "      <td>0.144042</td>\n",
       "      <td>-0.253384</td>\n",
       "      <td>-0.013944</td>\n",
       "      <td>0.109698</td>\n",
       "      <td>-0.014365</td>\n",
       "      <td>0.047395</td>\n",
       "      <td>0.128573</td>\n",
       "      <td>-0.130521</td>\n",
       "      <td>...</td>\n",
       "      <td>-0.050128</td>\n",
       "      <td>-0.026446</td>\n",
       "      <td>0.014678</td>\n",
       "      <td>-0.006187</td>\n",
       "      <td>-0.052236</td>\n",
       "      <td>0.076667</td>\n",
       "      <td>-0.001408</td>\n",
       "      <td>0.014109</td>\n",
       "      <td>0.021420</td>\n",
       "      <td>0.051377</td>\n",
       "    </tr>\n",
       "    <tr>\n",
       "      <th>3</th>\n",
       "      <td>0.361620</td>\n",
       "      <td>-0.246048</td>\n",
       "      <td>0.129061</td>\n",
       "      <td>-0.555287</td>\n",
       "      <td>0.088542</td>\n",
       "      <td>-0.363539</td>\n",
       "      <td>-0.101146</td>\n",
       "      <td>0.100532</td>\n",
       "      <td>0.050457</td>\n",
       "      <td>-0.170606</td>\n",
       "      <td>...</td>\n",
       "      <td>0.182635</td>\n",
       "      <td>0.192160</td>\n",
       "      <td>-0.134914</td>\n",
       "      <td>0.333424</td>\n",
       "      <td>-0.107130</td>\n",
       "      <td>0.024090</td>\n",
       "      <td>-0.290219</td>\n",
       "      <td>0.223177</td>\n",
       "      <td>0.023602</td>\n",
       "      <td>-0.250976</td>\n",
       "    </tr>\n",
       "    <tr>\n",
       "      <th>4</th>\n",
       "      <td>-1.219853</td>\n",
       "      <td>0.195589</td>\n",
       "      <td>0.172429</td>\n",
       "      <td>-0.290704</td>\n",
       "      <td>0.182889</td>\n",
       "      <td>0.002788</td>\n",
       "      <td>-0.021839</td>\n",
       "      <td>0.157691</td>\n",
       "      <td>0.204560</td>\n",
       "      <td>-0.188411</td>\n",
       "      <td>...</td>\n",
       "      <td>-0.060777</td>\n",
       "      <td>0.001234</td>\n",
       "      <td>0.026485</td>\n",
       "      <td>0.022407</td>\n",
       "      <td>0.097231</td>\n",
       "      <td>-0.013760</td>\n",
       "      <td>0.013582</td>\n",
       "      <td>-0.055673</td>\n",
       "      <td>-0.008839</td>\n",
       "      <td>-0.035984</td>\n",
       "    </tr>\n",
       "    <tr>\n",
       "      <th>...</th>\n",
       "      <td>...</td>\n",
       "      <td>...</td>\n",
       "      <td>...</td>\n",
       "      <td>...</td>\n",
       "      <td>...</td>\n",
       "      <td>...</td>\n",
       "      <td>...</td>\n",
       "      <td>...</td>\n",
       "      <td>...</td>\n",
       "      <td>...</td>\n",
       "      <td>...</td>\n",
       "      <td>...</td>\n",
       "      <td>...</td>\n",
       "      <td>...</td>\n",
       "      <td>...</td>\n",
       "      <td>...</td>\n",
       "      <td>...</td>\n",
       "      <td>...</td>\n",
       "      <td>...</td>\n",
       "      <td>...</td>\n",
       "      <td>...</td>\n",
       "    </tr>\n",
       "    <tr>\n",
       "      <th>1455</th>\n",
       "      <td>-0.672479</td>\n",
       "      <td>0.429184</td>\n",
       "      <td>0.174668</td>\n",
       "      <td>-0.346788</td>\n",
       "      <td>-0.152747</td>\n",
       "      <td>0.173111</td>\n",
       "      <td>-0.380030</td>\n",
       "      <td>0.063333</td>\n",
       "      <td>-0.063786</td>\n",
       "      <td>-0.029552</td>\n",
       "      <td>...</td>\n",
       "      <td>-0.006147</td>\n",
       "      <td>-0.009233</td>\n",
       "      <td>-0.023852</td>\n",
       "      <td>-0.021570</td>\n",
       "      <td>-0.059828</td>\n",
       "      <td>0.013421</td>\n",
       "      <td>-0.010786</td>\n",
       "      <td>0.020749</td>\n",
       "      <td>0.026990</td>\n",
       "      <td>0.007715</td>\n",
       "    </tr>\n",
       "    <tr>\n",
       "      <th>1456</th>\n",
       "      <td>-0.006866</td>\n",
       "      <td>-0.215937</td>\n",
       "      <td>-0.103675</td>\n",
       "      <td>0.153961</td>\n",
       "      <td>-0.368893</td>\n",
       "      <td>0.318264</td>\n",
       "      <td>0.475005</td>\n",
       "      <td>0.637612</td>\n",
       "      <td>0.170649</td>\n",
       "      <td>-0.175894</td>\n",
       "      <td>...</td>\n",
       "      <td>0.083808</td>\n",
       "      <td>-0.001114</td>\n",
       "      <td>0.008272</td>\n",
       "      <td>-0.058031</td>\n",
       "      <td>-0.021117</td>\n",
       "      <td>0.026920</td>\n",
       "      <td>-0.000436</td>\n",
       "      <td>0.039356</td>\n",
       "      <td>0.011204</td>\n",
       "      <td>-0.053508</td>\n",
       "    </tr>\n",
       "    <tr>\n",
       "      <th>1457</th>\n",
       "      <td>-0.508909</td>\n",
       "      <td>0.156039</td>\n",
       "      <td>0.054134</td>\n",
       "      <td>-0.438118</td>\n",
       "      <td>-0.008111</td>\n",
       "      <td>0.408721</td>\n",
       "      <td>0.542217</td>\n",
       "      <td>0.471601</td>\n",
       "      <td>-0.213313</td>\n",
       "      <td>-0.000789</td>\n",
       "      <td>...</td>\n",
       "      <td>-0.069262</td>\n",
       "      <td>0.182454</td>\n",
       "      <td>0.233769</td>\n",
       "      <td>-0.011844</td>\n",
       "      <td>0.216186</td>\n",
       "      <td>0.244869</td>\n",
       "      <td>0.182768</td>\n",
       "      <td>0.094329</td>\n",
       "      <td>0.175343</td>\n",
       "      <td>0.073547</td>\n",
       "    </tr>\n",
       "    <tr>\n",
       "      <th>1458</th>\n",
       "      <td>0.455347</td>\n",
       "      <td>-0.413589</td>\n",
       "      <td>-0.660621</td>\n",
       "      <td>0.396669</td>\n",
       "      <td>-0.140331</td>\n",
       "      <td>0.303085</td>\n",
       "      <td>0.534291</td>\n",
       "      <td>-0.462431</td>\n",
       "      <td>-0.133605</td>\n",
       "      <td>-0.233379</td>\n",
       "      <td>...</td>\n",
       "      <td>0.093987</td>\n",
       "      <td>0.048277</td>\n",
       "      <td>-0.237106</td>\n",
       "      <td>-0.133675</td>\n",
       "      <td>-0.091033</td>\n",
       "      <td>-0.001461</td>\n",
       "      <td>-0.111471</td>\n",
       "      <td>0.266389</td>\n",
       "      <td>-0.074687</td>\n",
       "      <td>-0.025564</td>\n",
       "    </tr>\n",
       "    <tr>\n",
       "      <th>1459</th>\n",
       "      <td>0.362414</td>\n",
       "      <td>-0.190511</td>\n",
       "      <td>0.133182</td>\n",
       "      <td>-0.017975</td>\n",
       "      <td>-0.535437</td>\n",
       "      <td>0.185033</td>\n",
       "      <td>-0.083026</td>\n",
       "      <td>0.032273</td>\n",
       "      <td>0.088031</td>\n",
       "      <td>-0.290675</td>\n",
       "      <td>...</td>\n",
       "      <td>0.113466</td>\n",
       "      <td>-0.034048</td>\n",
       "      <td>0.159931</td>\n",
       "      <td>-0.127047</td>\n",
       "      <td>0.066653</td>\n",
       "      <td>0.115168</td>\n",
       "      <td>0.071510</td>\n",
       "      <td>-0.081022</td>\n",
       "      <td>-0.021061</td>\n",
       "      <td>0.082438</td>\n",
       "    </tr>\n",
       "  </tbody>\n",
       "</table>\n",
       "<p>1460 rows × 50 columns</p>\n",
       "</div>"
      ],
      "text/plain": [
       "            0         1         2         3         4         5         6   \\\n",
       "0    -0.822609  0.583752  0.164552 -0.180034 -0.186048  0.362798  0.012371   \n",
       "1     0.073519 -0.319406  0.012247 -0.004697 -0.188833 -0.614229  0.130776   \n",
       "2    -0.961834  0.375955  0.144042 -0.253384 -0.013944  0.109698 -0.014365   \n",
       "3     0.361620 -0.246048  0.129061 -0.555287  0.088542 -0.363539 -0.101146   \n",
       "4    -1.219853  0.195589  0.172429 -0.290704  0.182889  0.002788 -0.021839   \n",
       "...        ...       ...       ...       ...       ...       ...       ...   \n",
       "1455 -0.672479  0.429184  0.174668 -0.346788 -0.152747  0.173111 -0.380030   \n",
       "1456 -0.006866 -0.215937 -0.103675  0.153961 -0.368893  0.318264  0.475005   \n",
       "1457 -0.508909  0.156039  0.054134 -0.438118 -0.008111  0.408721  0.542217   \n",
       "1458  0.455347 -0.413589 -0.660621  0.396669 -0.140331  0.303085  0.534291   \n",
       "1459  0.362414 -0.190511  0.133182 -0.017975 -0.535437  0.185033 -0.083026   \n",
       "\n",
       "            7         8         9   ...        40        41        42  \\\n",
       "0    -0.302041 -0.026932 -0.113226  ... -0.036102 -0.027997  0.002126   \n",
       "1     0.131879  0.165503 -0.212177  ...  0.243215 -0.040121 -0.079597   \n",
       "2     0.047395  0.128573 -0.130521  ... -0.050128 -0.026446  0.014678   \n",
       "3     0.100532  0.050457 -0.170606  ...  0.182635  0.192160 -0.134914   \n",
       "4     0.157691  0.204560 -0.188411  ... -0.060777  0.001234  0.026485   \n",
       "...        ...       ...       ...  ...       ...       ...       ...   \n",
       "1455  0.063333 -0.063786 -0.029552  ... -0.006147 -0.009233 -0.023852   \n",
       "1456  0.637612  0.170649 -0.175894  ...  0.083808 -0.001114  0.008272   \n",
       "1457  0.471601 -0.213313 -0.000789  ... -0.069262  0.182454  0.233769   \n",
       "1458 -0.462431 -0.133605 -0.233379  ...  0.093987  0.048277 -0.237106   \n",
       "1459  0.032273  0.088031 -0.290675  ...  0.113466 -0.034048  0.159931   \n",
       "\n",
       "            43        44        45        46        47        48        49  \n",
       "0     0.001745 -0.011852  0.015123  0.025593 -0.023698  0.007782  0.045958  \n",
       "1    -0.137442  0.031383  0.012100  0.150971 -0.063865 -0.042137  0.014619  \n",
       "2    -0.006187 -0.052236  0.076667 -0.001408  0.014109  0.021420  0.051377  \n",
       "3     0.333424 -0.107130  0.024090 -0.290219  0.223177  0.023602 -0.250976  \n",
       "4     0.022407  0.097231 -0.013760  0.013582 -0.055673 -0.008839 -0.035984  \n",
       "...        ...       ...       ...       ...       ...       ...       ...  \n",
       "1455 -0.021570 -0.059828  0.013421 -0.010786  0.020749  0.026990  0.007715  \n",
       "1456 -0.058031 -0.021117  0.026920 -0.000436  0.039356  0.011204 -0.053508  \n",
       "1457 -0.011844  0.216186  0.244869  0.182768  0.094329  0.175343  0.073547  \n",
       "1458 -0.133675 -0.091033 -0.001461 -0.111471  0.266389 -0.074687 -0.025564  \n",
       "1459 -0.127047  0.066653  0.115168  0.071510 -0.081022 -0.021061  0.082438  \n",
       "\n",
       "[1460 rows x 50 columns]"
      ]
     },
     "execution_count": 7,
     "metadata": {},
     "output_type": "execute_result"
    }
   ],
   "source": [
    "principalDf = pd.DataFrame(data = X_pca)\n",
    "principalDf"
   ]
  },
  {
   "cell_type": "code",
   "execution_count": 8,
   "metadata": {
    "colab": {
     "base_uri": "https://localhost:8080/",
     "height": 422
    },
    "colab_type": "code",
    "executionInfo": {
     "elapsed": 1302,
     "status": "ok",
     "timestamp": 1595741824091,
     "user": {
      "displayName": "Tejaswi Kanala",
      "photoUrl": "",
      "userId": "13244086744864706173"
     },
     "user_tz": -330
    },
    "id": "U2BSLoXJhgNZ",
    "outputId": "118181db-dc17-4080-a0c9-31839cf1c5d4"
   },
   "outputs": [
    {
     "data": {
      "text/html": [
       "<div>\n",
       "<style scoped>\n",
       "    .dataframe tbody tr th:only-of-type {\n",
       "        vertical-align: middle;\n",
       "    }\n",
       "\n",
       "    .dataframe tbody tr th {\n",
       "        vertical-align: top;\n",
       "    }\n",
       "\n",
       "    .dataframe thead th {\n",
       "        text-align: right;\n",
       "    }\n",
       "</style>\n",
       "<table border=\"1\" class=\"dataframe\">\n",
       "  <thead>\n",
       "    <tr style=\"text-align: right;\">\n",
       "      <th></th>\n",
       "      <th>0</th>\n",
       "      <th>1</th>\n",
       "      <th>2</th>\n",
       "      <th>3</th>\n",
       "      <th>4</th>\n",
       "      <th>5</th>\n",
       "      <th>6</th>\n",
       "      <th>7</th>\n",
       "      <th>8</th>\n",
       "      <th>9</th>\n",
       "      <th>...</th>\n",
       "      <th>41</th>\n",
       "      <th>42</th>\n",
       "      <th>43</th>\n",
       "      <th>44</th>\n",
       "      <th>45</th>\n",
       "      <th>46</th>\n",
       "      <th>47</th>\n",
       "      <th>48</th>\n",
       "      <th>49</th>\n",
       "      <th>SalePrice</th>\n",
       "    </tr>\n",
       "  </thead>\n",
       "  <tbody>\n",
       "    <tr>\n",
       "      <th>0</th>\n",
       "      <td>-0.822609</td>\n",
       "      <td>0.583752</td>\n",
       "      <td>0.164552</td>\n",
       "      <td>-0.180034</td>\n",
       "      <td>-0.186048</td>\n",
       "      <td>0.362798</td>\n",
       "      <td>0.012371</td>\n",
       "      <td>-0.302041</td>\n",
       "      <td>-0.026932</td>\n",
       "      <td>-0.113226</td>\n",
       "      <td>...</td>\n",
       "      <td>-0.027997</td>\n",
       "      <td>0.002126</td>\n",
       "      <td>0.001745</td>\n",
       "      <td>-0.011852</td>\n",
       "      <td>0.015123</td>\n",
       "      <td>0.025593</td>\n",
       "      <td>-0.023698</td>\n",
       "      <td>0.007782</td>\n",
       "      <td>0.045958</td>\n",
       "      <td>12.247694</td>\n",
       "    </tr>\n",
       "    <tr>\n",
       "      <th>1</th>\n",
       "      <td>0.073519</td>\n",
       "      <td>-0.319406</td>\n",
       "      <td>0.012247</td>\n",
       "      <td>-0.004697</td>\n",
       "      <td>-0.188833</td>\n",
       "      <td>-0.614229</td>\n",
       "      <td>0.130776</td>\n",
       "      <td>0.131879</td>\n",
       "      <td>0.165503</td>\n",
       "      <td>-0.212177</td>\n",
       "      <td>...</td>\n",
       "      <td>-0.040121</td>\n",
       "      <td>-0.079597</td>\n",
       "      <td>-0.137442</td>\n",
       "      <td>0.031383</td>\n",
       "      <td>0.012100</td>\n",
       "      <td>0.150971</td>\n",
       "      <td>-0.063865</td>\n",
       "      <td>-0.042137</td>\n",
       "      <td>0.014619</td>\n",
       "      <td>12.109011</td>\n",
       "    </tr>\n",
       "    <tr>\n",
       "      <th>2</th>\n",
       "      <td>-0.961834</td>\n",
       "      <td>0.375955</td>\n",
       "      <td>0.144042</td>\n",
       "      <td>-0.253384</td>\n",
       "      <td>-0.013944</td>\n",
       "      <td>0.109698</td>\n",
       "      <td>-0.014365</td>\n",
       "      <td>0.047395</td>\n",
       "      <td>0.128573</td>\n",
       "      <td>-0.130521</td>\n",
       "      <td>...</td>\n",
       "      <td>-0.026446</td>\n",
       "      <td>0.014678</td>\n",
       "      <td>-0.006187</td>\n",
       "      <td>-0.052236</td>\n",
       "      <td>0.076667</td>\n",
       "      <td>-0.001408</td>\n",
       "      <td>0.014109</td>\n",
       "      <td>0.021420</td>\n",
       "      <td>0.051377</td>\n",
       "      <td>12.317167</td>\n",
       "    </tr>\n",
       "    <tr>\n",
       "      <th>3</th>\n",
       "      <td>0.361620</td>\n",
       "      <td>-0.246048</td>\n",
       "      <td>0.129061</td>\n",
       "      <td>-0.555287</td>\n",
       "      <td>0.088542</td>\n",
       "      <td>-0.363539</td>\n",
       "      <td>-0.101146</td>\n",
       "      <td>0.100532</td>\n",
       "      <td>0.050457</td>\n",
       "      <td>-0.170606</td>\n",
       "      <td>...</td>\n",
       "      <td>0.192160</td>\n",
       "      <td>-0.134914</td>\n",
       "      <td>0.333424</td>\n",
       "      <td>-0.107130</td>\n",
       "      <td>0.024090</td>\n",
       "      <td>-0.290219</td>\n",
       "      <td>0.223177</td>\n",
       "      <td>0.023602</td>\n",
       "      <td>-0.250976</td>\n",
       "      <td>11.849398</td>\n",
       "    </tr>\n",
       "    <tr>\n",
       "      <th>4</th>\n",
       "      <td>-1.219853</td>\n",
       "      <td>0.195589</td>\n",
       "      <td>0.172429</td>\n",
       "      <td>-0.290704</td>\n",
       "      <td>0.182889</td>\n",
       "      <td>0.002788</td>\n",
       "      <td>-0.021839</td>\n",
       "      <td>0.157691</td>\n",
       "      <td>0.204560</td>\n",
       "      <td>-0.188411</td>\n",
       "      <td>...</td>\n",
       "      <td>0.001234</td>\n",
       "      <td>0.026485</td>\n",
       "      <td>0.022407</td>\n",
       "      <td>0.097231</td>\n",
       "      <td>-0.013760</td>\n",
       "      <td>0.013582</td>\n",
       "      <td>-0.055673</td>\n",
       "      <td>-0.008839</td>\n",
       "      <td>-0.035984</td>\n",
       "      <td>12.429216</td>\n",
       "    </tr>\n",
       "    <tr>\n",
       "      <th>...</th>\n",
       "      <td>...</td>\n",
       "      <td>...</td>\n",
       "      <td>...</td>\n",
       "      <td>...</td>\n",
       "      <td>...</td>\n",
       "      <td>...</td>\n",
       "      <td>...</td>\n",
       "      <td>...</td>\n",
       "      <td>...</td>\n",
       "      <td>...</td>\n",
       "      <td>...</td>\n",
       "      <td>...</td>\n",
       "      <td>...</td>\n",
       "      <td>...</td>\n",
       "      <td>...</td>\n",
       "      <td>...</td>\n",
       "      <td>...</td>\n",
       "      <td>...</td>\n",
       "      <td>...</td>\n",
       "      <td>...</td>\n",
       "      <td>...</td>\n",
       "    </tr>\n",
       "    <tr>\n",
       "      <th>1455</th>\n",
       "      <td>-0.672479</td>\n",
       "      <td>0.429184</td>\n",
       "      <td>0.174668</td>\n",
       "      <td>-0.346788</td>\n",
       "      <td>-0.152747</td>\n",
       "      <td>0.173111</td>\n",
       "      <td>-0.380030</td>\n",
       "      <td>0.063333</td>\n",
       "      <td>-0.063786</td>\n",
       "      <td>-0.029552</td>\n",
       "      <td>...</td>\n",
       "      <td>-0.009233</td>\n",
       "      <td>-0.023852</td>\n",
       "      <td>-0.021570</td>\n",
       "      <td>-0.059828</td>\n",
       "      <td>0.013421</td>\n",
       "      <td>-0.010786</td>\n",
       "      <td>0.020749</td>\n",
       "      <td>0.026990</td>\n",
       "      <td>0.007715</td>\n",
       "      <td>12.072541</td>\n",
       "    </tr>\n",
       "    <tr>\n",
       "      <th>1456</th>\n",
       "      <td>-0.006866</td>\n",
       "      <td>-0.215937</td>\n",
       "      <td>-0.103675</td>\n",
       "      <td>0.153961</td>\n",
       "      <td>-0.368893</td>\n",
       "      <td>0.318264</td>\n",
       "      <td>0.475005</td>\n",
       "      <td>0.637612</td>\n",
       "      <td>0.170649</td>\n",
       "      <td>-0.175894</td>\n",
       "      <td>...</td>\n",
       "      <td>-0.001114</td>\n",
       "      <td>0.008272</td>\n",
       "      <td>-0.058031</td>\n",
       "      <td>-0.021117</td>\n",
       "      <td>0.026920</td>\n",
       "      <td>-0.000436</td>\n",
       "      <td>0.039356</td>\n",
       "      <td>0.011204</td>\n",
       "      <td>-0.053508</td>\n",
       "      <td>12.254863</td>\n",
       "    </tr>\n",
       "    <tr>\n",
       "      <th>1457</th>\n",
       "      <td>-0.508909</td>\n",
       "      <td>0.156039</td>\n",
       "      <td>0.054134</td>\n",
       "      <td>-0.438118</td>\n",
       "      <td>-0.008111</td>\n",
       "      <td>0.408721</td>\n",
       "      <td>0.542217</td>\n",
       "      <td>0.471601</td>\n",
       "      <td>-0.213313</td>\n",
       "      <td>-0.000789</td>\n",
       "      <td>...</td>\n",
       "      <td>0.182454</td>\n",
       "      <td>0.233769</td>\n",
       "      <td>-0.011844</td>\n",
       "      <td>0.216186</td>\n",
       "      <td>0.244869</td>\n",
       "      <td>0.182768</td>\n",
       "      <td>0.094329</td>\n",
       "      <td>0.175343</td>\n",
       "      <td>0.073547</td>\n",
       "      <td>12.493130</td>\n",
       "    </tr>\n",
       "    <tr>\n",
       "      <th>1458</th>\n",
       "      <td>0.455347</td>\n",
       "      <td>-0.413589</td>\n",
       "      <td>-0.660621</td>\n",
       "      <td>0.396669</td>\n",
       "      <td>-0.140331</td>\n",
       "      <td>0.303085</td>\n",
       "      <td>0.534291</td>\n",
       "      <td>-0.462431</td>\n",
       "      <td>-0.133605</td>\n",
       "      <td>-0.233379</td>\n",
       "      <td>...</td>\n",
       "      <td>0.048277</td>\n",
       "      <td>-0.237106</td>\n",
       "      <td>-0.133675</td>\n",
       "      <td>-0.091033</td>\n",
       "      <td>-0.001461</td>\n",
       "      <td>-0.111471</td>\n",
       "      <td>0.266389</td>\n",
       "      <td>-0.074687</td>\n",
       "      <td>-0.025564</td>\n",
       "      <td>11.864462</td>\n",
       "    </tr>\n",
       "    <tr>\n",
       "      <th>1459</th>\n",
       "      <td>0.362414</td>\n",
       "      <td>-0.190511</td>\n",
       "      <td>0.133182</td>\n",
       "      <td>-0.017975</td>\n",
       "      <td>-0.535437</td>\n",
       "      <td>0.185033</td>\n",
       "      <td>-0.083026</td>\n",
       "      <td>0.032273</td>\n",
       "      <td>0.088031</td>\n",
       "      <td>-0.290675</td>\n",
       "      <td>...</td>\n",
       "      <td>-0.034048</td>\n",
       "      <td>0.159931</td>\n",
       "      <td>-0.127047</td>\n",
       "      <td>0.066653</td>\n",
       "      <td>0.115168</td>\n",
       "      <td>0.071510</td>\n",
       "      <td>-0.081022</td>\n",
       "      <td>-0.021061</td>\n",
       "      <td>0.082438</td>\n",
       "      <td>11.901583</td>\n",
       "    </tr>\n",
       "  </tbody>\n",
       "</table>\n",
       "<p>1460 rows × 51 columns</p>\n",
       "</div>"
      ],
      "text/plain": [
       "             0         1         2         3         4         5         6  \\\n",
       "0    -0.822609  0.583752  0.164552 -0.180034 -0.186048  0.362798  0.012371   \n",
       "1     0.073519 -0.319406  0.012247 -0.004697 -0.188833 -0.614229  0.130776   \n",
       "2    -0.961834  0.375955  0.144042 -0.253384 -0.013944  0.109698 -0.014365   \n",
       "3     0.361620 -0.246048  0.129061 -0.555287  0.088542 -0.363539 -0.101146   \n",
       "4    -1.219853  0.195589  0.172429 -0.290704  0.182889  0.002788 -0.021839   \n",
       "...        ...       ...       ...       ...       ...       ...       ...   \n",
       "1455 -0.672479  0.429184  0.174668 -0.346788 -0.152747  0.173111 -0.380030   \n",
       "1456 -0.006866 -0.215937 -0.103675  0.153961 -0.368893  0.318264  0.475005   \n",
       "1457 -0.508909  0.156039  0.054134 -0.438118 -0.008111  0.408721  0.542217   \n",
       "1458  0.455347 -0.413589 -0.660621  0.396669 -0.140331  0.303085  0.534291   \n",
       "1459  0.362414 -0.190511  0.133182 -0.017975 -0.535437  0.185033 -0.083026   \n",
       "\n",
       "             7         8         9  ...        41        42        43  \\\n",
       "0    -0.302041 -0.026932 -0.113226  ... -0.027997  0.002126  0.001745   \n",
       "1     0.131879  0.165503 -0.212177  ... -0.040121 -0.079597 -0.137442   \n",
       "2     0.047395  0.128573 -0.130521  ... -0.026446  0.014678 -0.006187   \n",
       "3     0.100532  0.050457 -0.170606  ...  0.192160 -0.134914  0.333424   \n",
       "4     0.157691  0.204560 -0.188411  ...  0.001234  0.026485  0.022407   \n",
       "...        ...       ...       ...  ...       ...       ...       ...   \n",
       "1455  0.063333 -0.063786 -0.029552  ... -0.009233 -0.023852 -0.021570   \n",
       "1456  0.637612  0.170649 -0.175894  ... -0.001114  0.008272 -0.058031   \n",
       "1457  0.471601 -0.213313 -0.000789  ...  0.182454  0.233769 -0.011844   \n",
       "1458 -0.462431 -0.133605 -0.233379  ...  0.048277 -0.237106 -0.133675   \n",
       "1459  0.032273  0.088031 -0.290675  ... -0.034048  0.159931 -0.127047   \n",
       "\n",
       "            44        45        46        47        48        49  SalePrice  \n",
       "0    -0.011852  0.015123  0.025593 -0.023698  0.007782  0.045958  12.247694  \n",
       "1     0.031383  0.012100  0.150971 -0.063865 -0.042137  0.014619  12.109011  \n",
       "2    -0.052236  0.076667 -0.001408  0.014109  0.021420  0.051377  12.317167  \n",
       "3    -0.107130  0.024090 -0.290219  0.223177  0.023602 -0.250976  11.849398  \n",
       "4     0.097231 -0.013760  0.013582 -0.055673 -0.008839 -0.035984  12.429216  \n",
       "...        ...       ...       ...       ...       ...       ...        ...  \n",
       "1455 -0.059828  0.013421 -0.010786  0.020749  0.026990  0.007715  12.072541  \n",
       "1456 -0.021117  0.026920 -0.000436  0.039356  0.011204 -0.053508  12.254863  \n",
       "1457  0.216186  0.244869  0.182768  0.094329  0.175343  0.073547  12.493130  \n",
       "1458 -0.091033 -0.001461 -0.111471  0.266389 -0.074687 -0.025564  11.864462  \n",
       "1459  0.066653  0.115168  0.071510 -0.081022 -0.021061  0.082438  11.901583  \n",
       "\n",
       "[1460 rows x 51 columns]"
      ]
     },
     "execution_count": 8,
     "metadata": {},
     "output_type": "execute_result"
    }
   ],
   "source": [
    "total_df = pd.concat([principalDf,df['SalePrice']],axis=1)\n",
    "total_df"
   ]
  },
  {
   "cell_type": "code",
   "execution_count": 9,
   "metadata": {
    "colab": {},
    "colab_type": "code",
    "executionInfo": {
     "elapsed": 1444,
     "status": "ok",
     "timestamp": 1595741828157,
     "user": {
      "displayName": "Tejaswi Kanala",
      "photoUrl": "",
      "userId": "13244086744864706173"
     },
     "user_tz": -330
    },
    "id": "8B7U5VoIh2lV"
   },
   "outputs": [],
   "source": [
    "y_target = total_df['SalePrice']\n",
    "x_feature = total_df.drop(['SalePrice'],axis=1)"
   ]
  },
  {
   "cell_type": "markdown",
   "metadata": {
    "colab_type": "text",
    "id": "0GCv7aBB_yQJ"
   },
   "source": [
    "XGBoost Model"
   ]
  },
  {
   "cell_type": "code",
   "execution_count": 10,
   "metadata": {
    "colab": {},
    "colab_type": "code",
    "executionInfo": {
     "elapsed": 1317,
     "status": "ok",
     "timestamp": 1595745757567,
     "user": {
      "displayName": "Tejaswi Kanala",
      "photoUrl": "",
      "userId": "13244086744864706173"
     },
     "user_tz": -330
    },
    "id": "AUekQ42zUZh7"
   },
   "outputs": [],
   "source": [
    "from sklearn.ensemble import RandomForestRegressor\n",
    "import xgboost as xgb"
   ]
  },
  {
   "cell_type": "code",
   "execution_count": 11,
   "metadata": {
    "colab": {},
    "colab_type": "code",
    "executionInfo": {
     "elapsed": 804,
     "status": "ok",
     "timestamp": 1595745759193,
     "user": {
      "displayName": "Tejaswi Kanala",
      "photoUrl": "",
      "userId": "13244086744864706173"
     },
     "user_tz": -330
    },
    "id": "s_lHRvgmiUA0"
   },
   "outputs": [],
   "source": [
    "from sklearn.model_selection import train_test_split\n",
    "x_feature_train,x_feature_test,y_target_train,y_target_test = train_test_split(x_feature,y_target,test_size=0.2, random_state=42)"
   ]
  },
  {
   "cell_type": "code",
   "execution_count": 12,
   "metadata": {
    "colab": {},
    "colab_type": "code",
    "executionInfo": {
     "elapsed": 947,
     "status": "ok",
     "timestamp": 1595745761008,
     "user": {
      "displayName": "Tejaswi Kanala",
      "photoUrl": "",
      "userId": "13244086744864706173"
     },
     "user_tz": -330
    },
    "id": "5cG4tNHJLHf8"
   },
   "outputs": [],
   "source": [
    "#trying the xgboost regressor\n",
    "xg_reg = xgb.XGBRegressor()"
   ]
  },
  {
   "cell_type": "code",
   "execution_count": 13,
   "metadata": {
    "colab": {},
    "colab_type": "code",
    "executionInfo": {
     "elapsed": 1284,
     "status": "ok",
     "timestamp": 1595741848656,
     "user": {
      "displayName": "Tejaswi Kanala",
      "photoUrl": "",
      "userId": "13244086744864706173"
     },
     "user_tz": -330
    },
    "id": "uo6eMxk86aF9"
   },
   "outputs": [],
   "source": [
    "params = {'n_estimators':[100,500,900,1100,1500],\n",
    "          'max_depth':[2,3,5,10,15],\n",
    "          'booster':['gbtree','gblinear'],\n",
    "          'learning_rate':[0.05,0.1,0.15,0.20],\n",
    "          'min_child_weight':[1,2,3,4],\n",
    "          \n",
    "          }"
   ]
  },
  {
   "cell_type": "code",
   "execution_count": 14,
   "metadata": {
    "colab": {},
    "colab_type": "code",
    "executionInfo": {
     "elapsed": 1154,
     "status": "ok",
     "timestamp": 1595741850531,
     "user": {
      "displayName": "Tejaswi Kanala",
      "photoUrl": "",
      "userId": "13244086744864706173"
     },
     "user_tz": -330
    },
    "id": "577SlmHo6evI"
   },
   "outputs": [],
   "source": [
    "from sklearn.model_selection import RandomizedSearchCV\n",
    "random_cv = RandomizedSearchCV(estimator=xg_reg,param_distributions=params,\n",
    "                               cv=10,n_iter=50,\n",
    "                               scoring='neg_mean_absolute_error',n_jobs=4,\n",
    "                               verbose=5,\n",
    "                               return_train_score=True,\n",
    "                               random_state=42)"
   ]
  },
  {
   "cell_type": "code",
   "execution_count": 15,
   "metadata": {
    "colab": {
     "base_uri": "https://localhost:8080/",
     "height": 554
    },
    "colab_type": "code",
    "executionInfo": {
     "elapsed": 179743,
     "status": "ok",
     "timestamp": 1595742495801,
     "user": {
      "displayName": "Tejaswi Kanala",
      "photoUrl": "",
      "userId": "13244086744864706173"
     },
     "user_tz": -330
    },
    "id": "e6ALr-CD6kNE",
    "outputId": "4292c91c-b140-45d6-a47c-b2f1365c072a"
   },
   "outputs": [],
   "source": [
    "#random_cv.fit(x_feature_train,y_target_train)"
   ]
  },
  {
   "cell_type": "code",
   "execution_count": 16,
   "metadata": {
    "colab": {
     "base_uri": "https://localhost:8080/",
     "height": 134
    },
    "colab_type": "code",
    "executionInfo": {
     "elapsed": 760,
     "status": "ok",
     "timestamp": 1595742558637,
     "user": {
      "displayName": "Tejaswi Kanala",
      "photoUrl": "",
      "userId": "13244086744864706173"
     },
     "user_tz": -330
    },
    "id": "m1b7UEYI6sp9",
    "outputId": "5a1b4f58-3cb4-4384-c641-812eb5768316"
   },
   "outputs": [],
   "source": [
    "#random_cv.best_estimator_"
   ]
  },
  {
   "cell_type": "code",
   "execution_count": 17,
   "metadata": {
    "colab": {},
    "colab_type": "code",
    "executionInfo": {
     "elapsed": 1249,
     "status": "ok",
     "timestamp": 1595745766857,
     "user": {
      "displayName": "Tejaswi Kanala",
      "photoUrl": "",
      "userId": "13244086744864706173"
     },
     "user_tz": -330
    },
    "id": "VNzj9PNb8HDE"
   },
   "outputs": [],
   "source": [
    "xg_reg = xgb.XGBRegressor(base_score=0.5, booster='gbtree', colsample_bylevel=1,\n",
    "             colsample_bynode=1, colsample_bytree=1, gamma=0.5,\n",
    "             importance_type='gain', learning_rate=0.1, max_delta_step=0,\n",
    "             max_depth=15, min_child_weight=2, missing=None, n_estimators=1500,\n",
    "             n_jobs=1, nthread=None, objective='reg:linear', random_state=0,\n",
    "             reg_alpha=0, reg_lambda=1, scale_pos_weight=1, seed=None,\n",
    "             silent=None, subsample=1, verbosity=1)"
   ]
  },
  {
   "cell_type": "code",
   "execution_count": 18,
   "metadata": {
    "colab": {
     "base_uri": "https://localhost:8080/",
     "height": 151
    },
    "colab_type": "code",
    "executionInfo": {
     "elapsed": 34248,
     "status": "ok",
     "timestamp": 1595745801817,
     "user": {
      "displayName": "Tejaswi Kanala",
      "photoUrl": "",
      "userId": "13244086744864706173"
     },
     "user_tz": -330
    },
    "id": "6-atMNJpUq0B",
    "outputId": "659319b0-517d-49a9-dcd0-bbca26794cd8"
   },
   "outputs": [
    {
     "name": "stdout",
     "output_type": "stream",
     "text": [
      "[14:14:08] WARNING: C:/Users/Administrator/workspace/xgboost-win64_release_1.2.0/src/objective/regression_obj.cu:174: reg:linear is now deprecated in favor of reg:squarederror.\n",
      "[14:15:08] WARNING: C:/Users/Administrator/workspace/xgboost-win64_release_1.2.0/src/objective/regression_obj.cu:174: reg:linear is now deprecated in favor of reg:squarederror.\n"
     ]
    },
    {
     "data": {
      "text/plain": [
       "XGBRegressor(base_score=0.5, booster='gbtree', colsample_bylevel=1,\n",
       "             colsample_bynode=1, colsample_bytree=1, gamma=0.5, gpu_id=-1,\n",
       "             importance_type='gain', interaction_constraints='',\n",
       "             learning_rate=0.1, max_delta_step=0, max_depth=15,\n",
       "             min_child_weight=2, missing=None, monotone_constraints='()',\n",
       "             n_estimators=1500, n_jobs=1, nthread=1, num_parallel_tree=1,\n",
       "             objective='reg:linear', random_state=0, reg_alpha=0, reg_lambda=1,\n",
       "             scale_pos_weight=1, seed=0, silent=None, subsample=1,\n",
       "             tree_method='exact', validate_parameters=1, verbosity=1)"
      ]
     },
     "execution_count": 18,
     "metadata": {},
     "output_type": "execute_result"
    }
   ],
   "source": [
    "xg_reg.fit(x_feature_train,y_target_train)"
   ]
  },
  {
   "cell_type": "code",
   "execution_count": 19,
   "metadata": {
    "colab": {},
    "colab_type": "code",
    "executionInfo": {
     "elapsed": 1328,
     "status": "ok",
     "timestamp": 1595745807157,
     "user": {
      "displayName": "Tejaswi Kanala",
      "photoUrl": "",
      "userId": "13244086744864706173"
     },
     "user_tz": -330
    },
    "id": "uGUhtzbPU1sl"
   },
   "outputs": [],
   "source": [
    "y_pred  = xg_reg.predict(x_feature_test)"
   ]
  },
  {
   "cell_type": "code",
   "execution_count": 20,
   "metadata": {
    "colab": {
     "base_uri": "https://localhost:8080/",
     "height": 34
    },
    "colab_type": "code",
    "executionInfo": {
     "elapsed": 1340,
     "status": "ok",
     "timestamp": 1595745810428,
     "user": {
      "displayName": "Tejaswi Kanala",
      "photoUrl": "",
      "userId": "13244086744864706173"
     },
     "user_tz": -330
    },
    "id": "lJBHigPHXruU",
    "outputId": "51206331-3dc4-48d2-fdf9-522ef79df842"
   },
   "outputs": [
    {
     "data": {
      "text/plain": [
       "0.19976377176362942"
      ]
     },
     "execution_count": 20,
     "metadata": {},
     "output_type": "execute_result"
    }
   ],
   "source": [
    "from sklearn.metrics import mean_squared_error\n",
    "np.sqrt(mean_squared_error(y_target_test,y_pred))"
   ]
  },
  {
   "cell_type": "code",
   "execution_count": 21,
   "metadata": {
    "colab": {
     "base_uri": "https://localhost:8080/",
     "height": 34
    },
    "colab_type": "code",
    "executionInfo": {
     "elapsed": 1107,
     "status": "ok",
     "timestamp": 1595745821744,
     "user": {
      "displayName": "Tejaswi Kanala",
      "photoUrl": "",
      "userId": "13244086744864706173"
     },
     "user_tz": -330
    },
    "id": "LyoVgSFjwuGW",
    "outputId": "d65b0413-1a1a-446b-c88e-4aca6658cdaf"
   },
   "outputs": [
    {
     "name": "stdout",
     "output_type": "stream",
     "text": [
      "0.7861593046211077\n"
     ]
    }
   ],
   "source": [
    "#test accuracy\n",
    "from sklearn.metrics import r2_score\n",
    "print(r2_score(y_target_test, y_pred))"
   ]
  },
  {
   "cell_type": "code",
   "execution_count": 22,
   "metadata": {
    "colab": {},
    "colab_type": "code",
    "executionInfo": {
     "elapsed": 1196,
     "status": "ok",
     "timestamp": 1595745823894,
     "user": {
      "displayName": "Tejaswi Kanala",
      "photoUrl": "",
      "userId": "13244086744864706173"
     },
     "user_tz": -330
    },
    "id": "NVcFDbgtw7D6"
   },
   "outputs": [],
   "source": [
    "#trainn accuracy\n",
    "y_pred_train = xg_reg.predict(x_feature_train)"
   ]
  },
  {
   "cell_type": "code",
   "execution_count": 23,
   "metadata": {
    "colab": {
     "base_uri": "https://localhost:8080/",
     "height": 34
    },
    "colab_type": "code",
    "executionInfo": {
     "elapsed": 1239,
     "status": "ok",
     "timestamp": 1595745825954,
     "user": {
      "displayName": "Tejaswi Kanala",
      "photoUrl": "",
      "userId": "13244086744864706173"
     },
     "user_tz": -330
    },
    "id": "EWyuW6URORgB",
    "outputId": "c2cb567e-3693-4305-934c-82f21b7294f8"
   },
   "outputs": [
    {
     "data": {
      "text/plain": [
       "0.14410754169303738"
      ]
     },
     "execution_count": 23,
     "metadata": {},
     "output_type": "execute_result"
    }
   ],
   "source": [
    "np.sqrt(mean_squared_error(y_target_train,y_pred_train))"
   ]
  },
  {
   "cell_type": "code",
   "execution_count": 24,
   "metadata": {
    "colab": {
     "base_uri": "https://localhost:8080/",
     "height": 34
    },
    "colab_type": "code",
    "executionInfo": {
     "elapsed": 1190,
     "status": "ok",
     "timestamp": 1595745828306,
     "user": {
      "displayName": "Tejaswi Kanala",
      "photoUrl": "",
      "userId": "13244086744864706173"
     },
     "user_tz": -330
    },
    "id": "g67V2tPRxb2O",
    "outputId": "7c9985f9-3466-49a4-a168-44fe31978ffc"
   },
   "outputs": [
    {
     "name": "stdout",
     "output_type": "stream",
     "text": [
      "0.8637733812046499\n"
     ]
    }
   ],
   "source": [
    "print(r2_score(y_target_train,y_pred_train))"
   ]
  },
  {
   "cell_type": "code",
   "execution_count": 25,
   "metadata": {
    "colab": {},
    "colab_type": "code",
    "executionInfo": {
     "elapsed": 1133,
     "status": "ok",
     "timestamp": 1595745830276,
     "user": {
      "displayName": "Tejaswi Kanala",
      "photoUrl": "",
      "userId": "13244086744864706173"
     },
     "user_tz": -330
    },
    "id": "SDy9vhvNfqE3"
   },
   "outputs": [],
   "source": [
    "ypred_norm = np.expm1(xg_reg.predict(x_feature_test))"
   ]
  },
  {
   "cell_type": "code",
   "execution_count": 26,
   "metadata": {
    "colab": {},
    "colab_type": "code",
    "executionInfo": {
     "elapsed": 1278,
     "status": "ok",
     "timestamp": 1595745832305,
     "user": {
      "displayName": "Tejaswi Kanala",
      "photoUrl": "",
      "userId": "13244086744864706173"
     },
     "user_tz": -330
    },
    "id": "PRwCH3jC-swU"
   },
   "outputs": [],
   "source": [
    "ytest_norm = np.expm1(y_target_test)"
   ]
  },
  {
   "cell_type": "code",
   "execution_count": 46,
   "metadata": {},
   "outputs": [
    {
     "data": {
      "text/plain": [
       "count       292.000000\n",
       "mean     178838.811644\n",
       "std       87730.751259\n",
       "min       35310.000000\n",
       "25%      126999.000000\n",
       "50%      154149.000000\n",
       "75%      209174.000000\n",
       "max      754999.000000\n",
       "Name: SalePrice, dtype: float64"
      ]
     },
     "execution_count": 46,
     "metadata": {},
     "output_type": "execute_result"
    }
   ],
   "source": [
    "ytest_norm.describe()"
   ]
  },
  {
   "cell_type": "code",
   "execution_count": 48,
   "metadata": {},
   "outputs": [
    {
     "data": {
      "text/plain": [
       "count       292.000000\n",
       "mean     175691.968750\n",
       "std       61710.644531\n",
       "min       59140.832031\n",
       "25%      128724.541016\n",
       "50%      161803.710938\n",
       "75%      204400.832031\n",
       "max      377491.406250\n",
       "dtype: float64"
      ]
     },
     "execution_count": 48,
     "metadata": {},
     "output_type": "execute_result"
    }
   ],
   "source": [
    "pd.Series(ypred_norm).describe()"
   ]
  },
  {
   "cell_type": "code",
   "execution_count": 27,
   "metadata": {
    "colab": {
     "base_uri": "https://localhost:8080/",
     "height": 34
    },
    "colab_type": "code",
    "executionInfo": {
     "elapsed": 925,
     "status": "ok",
     "timestamp": 1595745834121,
     "user": {
      "displayName": "Tejaswi Kanala",
      "photoUrl": "",
      "userId": "13244086744864706173"
     },
     "user_tz": -330
    },
    "id": "mRXm3ZX5-wrs",
    "outputId": "3b067ecf-4270-4222-bad0-79fc147cfe8c"
   },
   "outputs": [
    {
     "data": {
      "text/plain": [
       "44038.336804903025"
      ]
     },
     "execution_count": 27,
     "metadata": {},
     "output_type": "execute_result"
    }
   ],
   "source": [
    "#test rmse\n",
    "from sklearn.metrics import mean_squared_error\n",
    "np.sqrt(mean_squared_error(ytest_norm,ypred_norm))"
   ]
  },
  {
   "cell_type": "code",
   "execution_count": 28,
   "metadata": {
    "colab": {},
    "colab_type": "code",
    "executionInfo": {
     "elapsed": 1355,
     "status": "ok",
     "timestamp": 1595745847838,
     "user": {
      "displayName": "Tejaswi Kanala",
      "photoUrl": "",
      "userId": "13244086744864706173"
     },
     "user_tz": -330
    },
    "id": "U3Roh81sMVSC"
   },
   "outputs": [],
   "source": [
    "ypred_train_norm = np.expm1(xg_reg.predict(x_feature_train))\n"
   ]
  },
  {
   "cell_type": "code",
   "execution_count": 29,
   "metadata": {
    "colab": {},
    "colab_type": "code",
    "executionInfo": {
     "elapsed": 1188,
     "status": "ok",
     "timestamp": 1595745850814,
     "user": {
      "displayName": "Tejaswi Kanala",
      "photoUrl": "",
      "userId": "13244086744864706173"
     },
     "user_tz": -330
    },
    "id": "Nn1aCkUJMfQZ"
   },
   "outputs": [],
   "source": [
    "ytrain_norm = np.expm1(y_target_train)"
   ]
  },
  {
   "cell_type": "code",
   "execution_count": 30,
   "metadata": {
    "colab": {
     "base_uri": "https://localhost:8080/",
     "height": 34
    },
    "colab_type": "code",
    "executionInfo": {
     "elapsed": 1080,
     "status": "ok",
     "timestamp": 1595745852998,
     "user": {
      "displayName": "Tejaswi Kanala",
      "photoUrl": "",
      "userId": "13244086744864706173"
     },
     "user_tz": -330
    },
    "id": "Czt5vn2LMnMI",
    "outputId": "4641b547-b2ea-48fc-82ec-1c41a4d22d50"
   },
   "outputs": [
    {
     "data": {
      "text/plain": [
       "32376.150284189524"
      ]
     },
     "execution_count": 30,
     "metadata": {},
     "output_type": "execute_result"
    }
   ],
   "source": [
    "#train rmse\n",
    "np.sqrt(mean_squared_error(ytrain_norm,ypred_train_norm))"
   ]
  },
  {
   "cell_type": "code",
   "execution_count": 31,
   "metadata": {
    "colab": {
     "base_uri": "https://localhost:8080/",
     "height": 296
    },
    "colab_type": "code",
    "executionInfo": {
     "elapsed": 1494,
     "status": "ok",
     "timestamp": 1595701799056,
     "user": {
      "displayName": "Tejaswi Kanala",
      "photoUrl": "",
      "userId": "13244086744864706173"
     },
     "user_tz": -330
    },
    "id": "lrERf0ms-1Z4",
    "outputId": "a0a235d9-5e00-4456-ae14-4a994cf160a3"
   },
   "outputs": [
    {
     "data": {
      "text/plain": [
       "(0.0, 400000.0)"
      ]
     },
     "execution_count": 31,
     "metadata": {},
     "output_type": "execute_result"
    },
    {
     "data": {
      "image/png": "[encoded data removed]",
      "text/plain": [
       "<Figure size 432x288 with 1 Axes>"
      ]
     },
     "metadata": {
      "needs_background": "light"
     },
     "output_type": "display_data"
    }
   ],
   "source": [
    "sns.boxplot(x=(ypred_norm - ytest_norm).abs(),data=df)\n",
    "plt.xlabel(\"residuals\")\n",
    "plt.xlim(0,400000)\n",
    "#tried as much as close to zero"
   ]
  },
  {
   "cell_type": "markdown",
   "metadata": {
    "colab_type": "text",
    "id": "7dYY4Jy7__Tb"
   },
   "source": [
    "RandomForest "
   ]
  },
  {
   "cell_type": "code",
   "execution_count": 32,
   "metadata": {
    "colab": {},
    "colab_type": "code",
    "executionInfo": {
     "elapsed": 1227,
     "status": "ok",
     "timestamp": 1595743372358,
     "user": {
      "displayName": "Tejaswi Kanala",
      "photoUrl": "",
      "userId": "13244086744864706173"
     },
     "user_tz": -330
    },
    "id": "x0AV0f4uDZiQ"
   },
   "outputs": [],
   "source": [
    "x_feature_train,x_feature_test,y_target_train,y_target_test = train_test_split(x_feature,y_target,test_size=0.2, random_state=42)"
   ]
  },
  {
   "cell_type": "code",
   "execution_count": 33,
   "metadata": {
    "colab": {},
    "colab_type": "code",
    "executionInfo": {
     "elapsed": 1076,
     "status": "ok",
     "timestamp": 1595743374031,
     "user": {
      "displayName": "Tejaswi Kanala",
      "photoUrl": "",
      "userId": "13244086744864706173"
     },
     "user_tz": -330
    },
    "id": "peBGaVObAKqb"
   },
   "outputs": [],
   "source": [
    "rf_reg = RandomForestRegressor()"
   ]
  },
  {
   "cell_type": "code",
   "execution_count": 34,
   "metadata": {
    "colab": {},
    "colab_type": "code",
    "executionInfo": {
     "elapsed": 1107,
     "status": "ok",
     "timestamp": 1595743375787,
     "user": {
      "displayName": "Tejaswi Kanala",
      "photoUrl": "",
      "userId": "13244086744864706173"
     },
     "user_tz": -330
    },
    "id": "MaldEseTCKbr"
   },
   "outputs": [],
   "source": [
    "param = {\n",
    "    'n_estimators':range(10,200,20),\n",
    "    'min_samples_leaf':range(1,5,1),\n",
    "    'max_depth':range(3,20,1),   \n",
    "}"
   ]
  },
  {
   "cell_type": "code",
   "execution_count": 35,
   "metadata": {
    "colab": {},
    "colab_type": "code",
    "executionInfo": {
     "elapsed": 913,
     "status": "ok",
     "timestamp": 1595743377645,
     "user": {
      "displayName": "Tejaswi Kanala",
      "photoUrl": "",
      "userId": "13244086744864706173"
     },
     "user_tz": -330
    },
    "id": "0-VcXOTZCR6L"
   },
   "outputs": [],
   "source": [
    "random = RandomizedSearchCV(estimator=rf_reg,param_distributions=param,\n",
    "                               cv=10,n_iter=50,\n",
    "                               scoring='neg_mean_absolute_error',n_jobs=4,\n",
    "                               verbose=5,\n",
    "                               return_train_score=True,\n",
    "                               random_state=42)"
   ]
  },
  {
   "cell_type": "code",
   "execution_count": 36,
   "metadata": {
    "colab": {
     "base_uri": "https://localhost:8080/",
     "height": 554
    },
    "colab_type": "code",
    "executionInfo": {
     "elapsed": 706378,
     "status": "ok",
     "timestamp": 1595657066528,
     "user": {
      "displayName": "Tejaswi Kanala",
      "photoUrl": "",
      "userId": "13244086744864706173"
     },
     "user_tz": -330
    },
    "id": "gDqde6SAC3Zl",
    "outputId": "ae5567e8-4dff-45c9-dbb0-f034b71a73f5"
   },
   "outputs": [],
   "source": [
    "#random.fit(x_feature_train,y_target_train)"
   ]
  },
  {
   "cell_type": "code",
   "execution_count": 37,
   "metadata": {
    "colab": {
     "base_uri": "https://localhost:8080/",
     "height": 134
    },
    "colab_type": "code",
    "executionInfo": {
     "elapsed": 895,
     "status": "ok",
     "timestamp": 1595657652019,
     "user": {
      "displayName": "Tejaswi Kanala",
      "photoUrl": "",
      "userId": "13244086744864706173"
     },
     "user_tz": -330
    },
    "id": "OoYL8B5PE7x0",
    "outputId": "7e17c87b-da87-4b79-c47b-79caaf418989"
   },
   "outputs": [],
   "source": [
    "# random.best_estimator_"
   ]
  },
  {
   "cell_type": "code",
   "execution_count": 38,
   "metadata": {
    "colab": {},
    "colab_type": "code",
    "executionInfo": {
     "elapsed": 1095,
     "status": "ok",
     "timestamp": 1595743382226,
     "user": {
      "displayName": "Tejaswi Kanala",
      "photoUrl": "",
      "userId": "13244086744864706173"
     },
     "user_tz": -330
    },
    "id": "b2LrLcfgFGSG"
   },
   "outputs": [],
   "source": [
    "rf_reg = RandomForestRegressor(bootstrap=True, ccp_alpha=0.0, criterion='mse',\n",
    "                      max_depth=15, max_features='auto', max_leaf_nodes=None,\n",
    "                      max_samples=None, min_impurity_decrease=0.0,\n",
    "                      min_impurity_split=None, min_samples_leaf=1,\n",
    "                      min_samples_split=2, min_weight_fraction_leaf=0.0,\n",
    "                      n_estimators=110, n_jobs=None, oob_score=False,\n",
    "                      random_state=None, verbose=0, warm_start=False)"
   ]
  },
  {
   "cell_type": "code",
   "execution_count": 39,
   "metadata": {
    "colab": {
     "base_uri": "https://localhost:8080/",
     "height": 134
    },
    "colab_type": "code",
    "executionInfo": {
     "elapsed": 4534,
     "status": "ok",
     "timestamp": 1595743388586,
     "user": {
      "displayName": "Tejaswi Kanala",
      "photoUrl": "",
      "userId": "13244086744864706173"
     },
     "user_tz": -330
    },
    "id": "9a6o5MMQFLP3",
    "outputId": "f276ba47-6829-4aa9-a83c-f4427e692d33"
   },
   "outputs": [
    {
     "data": {
      "text/plain": [
       "RandomForestRegressor(max_depth=15, n_estimators=110)"
      ]
     },
     "execution_count": 39,
     "metadata": {},
     "output_type": "execute_result"
    }
   ],
   "source": [
    "rf_reg.fit(x_feature_train,y_target_train)"
   ]
  },
  {
   "cell_type": "code",
   "execution_count": 40,
   "metadata": {
    "colab": {},
    "colab_type": "code",
    "executionInfo": {
     "elapsed": 1097,
     "status": "ok",
     "timestamp": 1595743391347,
     "user": {
      "displayName": "Tejaswi Kanala",
      "photoUrl": "",
      "userId": "13244086744864706173"
     },
     "user_tz": -330
    },
    "id": "4c89_54UFW23"
   },
   "outputs": [],
   "source": [
    "y_pred  = rf_reg.predict(x_feature_test)"
   ]
  },
  {
   "cell_type": "code",
   "execution_count": 41,
   "metadata": {
    "colab": {
     "base_uri": "https://localhost:8080/",
     "height": 34
    },
    "colab_type": "code",
    "executionInfo": {
     "elapsed": 1226,
     "status": "ok",
     "timestamp": 1595743393252,
     "user": {
      "displayName": "Tejaswi Kanala",
      "photoUrl": "",
      "userId": "13244086744864706173"
     },
     "user_tz": -330
    },
    "id": "B5EQiD5vFcPz",
    "outputId": "f5183feb-4fe0-4edd-d148-6324cd6294b9"
   },
   "outputs": [
    {
     "data": {
      "text/plain": [
       "0.18859438255940197"
      ]
     },
     "execution_count": 41,
     "metadata": {},
     "output_type": "execute_result"
    }
   ],
   "source": [
    "#test rmse\n",
    "from sklearn.metrics import mean_squared_error\n",
    "np.sqrt(mean_squared_error(y_target_test,y_pred))"
   ]
  },
  {
   "cell_type": "code",
   "execution_count": 42,
   "metadata": {
    "colab": {
     "base_uri": "https://localhost:8080/",
     "height": 34
    },
    "colab_type": "code",
    "executionInfo": {
     "elapsed": 2109,
     "status": "ok",
     "timestamp": 1595740559971,
     "user": {
      "displayName": "Tejaswi Kanala",
      "photoUrl": "",
      "userId": "13244086744864706173"
     },
     "user_tz": -330
    },
    "id": "3NDcwdi8wKXo",
    "outputId": "8e74c2d5-d666-4b8f-cf7b-1b308f9f4986"
   },
   "outputs": [],
   "source": [
    "# from sklearn.metrics import r2_score\n",
    "# print(r2_score(y_target_test, y_pred))"
   ]
  },
  {
   "cell_type": "code",
   "execution_count": 43,
   "metadata": {
    "colab": {},
    "colab_type": "code",
    "executionInfo": {
     "elapsed": 1274,
     "status": "ok",
     "timestamp": 1595743396869,
     "user": {
      "displayName": "Tejaswi Kanala",
      "photoUrl": "",
      "userId": "13244086744864706173"
     },
     "user_tz": -330
    },
    "id": "jhGC-AGTwPuH"
   },
   "outputs": [],
   "source": [
    "#trainn accuracy\n",
    "y_pred_train = rf_reg.predict(x_feature_train)"
   ]
  },
  {
   "cell_type": "code",
   "execution_count": 44,
   "metadata": {
    "colab": {
     "base_uri": "https://localhost:8080/",
     "height": 34
    },
    "colab_type": "code",
    "executionInfo": {
     "elapsed": 1306,
     "status": "ok",
     "timestamp": 1595743399388,
     "user": {
      "displayName": "Tejaswi Kanala",
      "photoUrl": "",
      "userId": "13244086744864706173"
     },
     "user_tz": -330
    },
    "id": "jGJYdKnvjKn9",
    "outputId": "8d21cc3a-8356-42de-fbf7-6b40c535b056"
   },
   "outputs": [
    {
     "data": {
      "text/plain": [
       "0.06538404056227784"
      ]
     },
     "execution_count": 44,
     "metadata": {},
     "output_type": "execute_result"
    }
   ],
   "source": [
    "np.sqrt(mean_squared_error(y_target_train,y_pred_train))"
   ]
  },
  {
   "cell_type": "code",
   "execution_count": 45,
   "metadata": {
    "colab": {
     "base_uri": "https://localhost:8080/",
     "height": 34
    },
    "colab_type": "code",
    "executionInfo": {
     "elapsed": 1885,
     "status": "ok",
     "timestamp": 1595700940089,
     "user": {
      "displayName": "Tejaswi Kanala",
      "photoUrl": "",
      "userId": "13244086744864706173"
     },
     "user_tz": -330
    },
    "id": "Cnjv8IGLwZbb",
    "outputId": "ac9793c6-7d92-4f86-e905-af8c143027c5"
   },
   "outputs": [],
   "source": [
    "# print(r2_score(y_target_train,y_pred_train))"
   ]
  },
  {
   "cell_type": "code",
   "execution_count": null,
   "metadata": {},
   "outputs": [],
   "source": []
  }
 ],
 "metadata": {
  "colab": {
   "authorship_tag": "ABX9TyN9GR0WbXV2y106PR9p0pdP",
   "name": "Tejaswi_Project_PCA.ipynb",
   "provenance": []
  },
  "kernelspec": {
   "display_name": "Python 3",
   "language": "python",
   "name": "python3"
  },
  "language_info": {
   "codemirror_mode": {
    "name": "ipython",
    "version": 3
   },
   "file_extension": ".py",
   "mimetype": "text/x-python",
   "name": "python",
   "nbconvert_exporter": "python",
   "pygments_lexer": "ipython3",
   "version": "3.8.8"
  }
 },
 "nbformat": 4,
 "nbformat_minor": 4
}
